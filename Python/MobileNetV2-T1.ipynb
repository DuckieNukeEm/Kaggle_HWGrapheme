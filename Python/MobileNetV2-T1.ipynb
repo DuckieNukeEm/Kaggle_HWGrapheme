{
 "cells": [
  {
   "cell_type": "markdown",
   "metadata": {},
   "source": [
    "# Mobilenetv2 for Testing\n",
    "We are going to use a mobilnet to train a model and see how it does\n",
    "\n",
    "____"
   ]
  },
  {
   "cell_type": "markdown",
   "metadata": {},
   "source": [
    "## Loading Packages"
   ]
  },
  {
   "cell_type": "code",
   "execution_count": 7,
   "metadata": {},
   "outputs": [],
   "source": [
    "import numpy as np\n",
    "import pandas as pd\n",
    "\n",
    "import matplotlib.pyplot as plt\n",
    "from tensorflow.keras.applications.mobilenet_v2 import MobileNetV2 #for our model\n",
    "from tensorflow.keras.utils import Sequence # For our own data generator\n",
    "import cv2 # For image processing\n",
    "from sklearn.preprocessing import OneHotEncoder, LabelEncoder #for hot encoding the target var"
   ]
  },
  {
   "cell_type": "markdown",
   "metadata": {},
   "source": [
    "## Building Generator"
   ]
  },
  {
   "cell_type": "code",
   "execution_count": 248,
   "metadata": {},
   "outputs": [],
   "source": [
    "#https://towardsdatascience.com/keras-data-generators-and-how-to-use-them-b69129ed779c\n",
    "\n",
    "class DataGenerator(Sequence):\n",
    "    \"\"\"Generates data for Keras\n",
    "    Sequence based data generator. Suitable for building data generator for training and prediction.\n",
    "    \"\"\"\n",
    "    def __init__(self,\n",
    "                 csv_file, # file that has the images on it, as well as the image types\n",
    "                 y_var = ['root','vowel','consonant'] ,\n",
    "                 to_fit=True,\n",
    "                 batch_size=32,\n",
    "                 dim = (90,160),\n",
    "                 channels = 1,\n",
    "                 vertical_flip = 0,\n",
    "                 horizontal_flip = 0,\n",
    "                 rotate = (0,0), #PRob, max roatioan\n",
    "                 shear = (0,0), # prob, max_shear\n",
    "                 shuffle=True):\n",
    "        \"\"\"Initialization\n",
    "        :param csv_File #CSV file that has the path to the stores on it\n",
    "        :param y_var: a list of 'root','voewl','consonant'\n",
    "        :param to_fit: Provive the dependent variable as well\n",
    "        :param batch_size: The size of each batch to deliver\n",
    "        :param dim: dimensions of the photos to use\n",
    "        :param channels: The number of channals of the photo - 1 is bw, 3 is color, any other is customer\n",
    "        :param vertical_flip: (dbl) The percent chance to flip a photo along a vertical axis\n",
    "        :param horizontal_flip: (dbl) The percent chance to flip a photo along a horiszontal axis\n",
    "        :param rotate: (tuple - (prob, degree)) A two unit tuple, first is the % chance of rotate, the next is the amount of rotation\n",
    "        :param shear: (tuple - (prob, amt)) A two unit tuple, first is the % chance of shear, the next is the amount of shear\n",
    "        :param shuffle: True to shuffle label indexes after every epoch\n",
    "        \"\"\"\n",
    "        \n",
    "        #Getting Index that we will use to sort\n",
    "        \n",
    "        self.Idx_List = np.arange(csv_file.shape[0])\n",
    "        \n",
    "        # Loading y_Vars\n",
    "        if isinstance(y_var, list):\n",
    "            y_var = y_var[0]\n",
    "            \n",
    "        if y_var == 'root':\n",
    "            self.y_var = csv_file.grapheme_root.values\n",
    "        elif y_var =='vowel':\n",
    "            self.y_var = csv_file.vowel_diacritic.values\n",
    "        elif y_var == 'consonant':\n",
    "            self.y_var = csv_file.consonant_diacritic.values\n",
    "        else:\n",
    "            print(\"Could not determine what y_var was, please use one of 'root','vowel','const'\")\n",
    "        #TODO Move this to the aabove if statement, removing the need for y_var, and y\n",
    "        self.y_dim = 0\n",
    "        self.hot_encode_y()\n",
    "        \n",
    "        # getting Images Location\n",
    "        self.Imgs = CSV.Image_Dir.values\n",
    "        \n",
    "        #Setting other vars\n",
    "        self.batch_size = batch_size\n",
    "        self.fit = to_fit\n",
    "        self.shuffle = shuffle\n",
    "        \n",
    "        self.dim = dim\n",
    "        self.channels = channels\n",
    "        if self.channels == 1:\n",
    "            self.read_mode = cv2.IMREAD_GRAYSCALE\n",
    "        elif self.channels == 3:\n",
    "            self.read_mode = cv2.IMREAD_COLOR\n",
    "        else:\n",
    "            self.read_mode = cv2.IMREAD_UNCHANGED\n",
    "        \n",
    "        assert 0 <= vertical_flip <=1, \"vertical_flip = {}, which is not between 0 or 1\".format(vertical_flip)\n",
    "        self.v_flip = vertical_flip\n",
    "        \n",
    "        assert 0 <= horizontal_flip <=1, \"horizontal_flip = {}, which is not between 0 or 1\".format(horizontal_flip)\n",
    "        self.h_flip = horizontal_flip\n",
    "        \n",
    "        assert 0 <= rotate[0] <=1, \"first value of rotate = {}, which is not between 0 or 1\".format(rotate[0])\n",
    "        self.r_prob = rotate[0]\n",
    "        assert 0 <= rotate[1] < 360, \"second value of rotate = {}, which is not between 0 or 359\".format(rotate[1])\n",
    "        self.r_deg = rotate[1]\n",
    "        \n",
    "        assert 0 <= shear[0] <=1, \"first value of shear = {}, which is not between 0 or 1\".format(shear[0])\n",
    "        self.s_prob = shear[0]\n",
    "        \n",
    "        assert 0 <= shear[1] <=359, \"first value of shear = {}, which is not between 0 or 359\".format(shear[1])\n",
    "        self.s_fact = shear[1]\n",
    "        #self.on_epoch_end()\n",
    "        \n",
    "    def __len__(self):\n",
    "        \"\"\"Denotes the number of batches per epoch\n",
    "        :return: number of batches per epoch\n",
    "        \"\"\"\n",
    "        return int(np.floor(len(self.Idx_List) / self.batch_size))\n",
    "\n",
    "    def __getitem__(self, index):\n",
    "        \"\"\"Generate one batch of data\n",
    "        :param index: index of the batch\n",
    "        :return: X and y when fitting. X only when predicting\n",
    "        \"\"\"\n",
    "        # Generate indexes of the batch\n",
    "        Batch_Idx = self.Idx_List[index * self.batch_size:(index + 1) * self.batch_size]\n",
    "\n",
    "\n",
    "        # Generate data\n",
    "        X = self._generate_X(Batch_Idx)\n",
    "\n",
    "        if self.fit:\n",
    "            y = self._generate_y(Batch_Idx)\n",
    "            return X, y\n",
    "        else:\n",
    "            return X\n",
    "        \n",
    "    #TODO at a def __iter__ and __next__ methodology so we can loop through it!\n",
    "\n",
    "    def on_epoch_end(self):\n",
    "        \"\"\"Updates indexes after each epoch\n",
    "        \"\"\"\n",
    "        self.indexes = np.arange(len(self.list_IDs))\n",
    "        if self.shuffle == True:\n",
    "            np.random.shuffle(self.Idx_List)\n",
    "\n",
    "    def _generate_X(self, Batch_Idx):\n",
    "        \"\"\"Generates data containing batch_size images\n",
    "        :param list_IDs_temp: list of label ids to load\n",
    "        :return: batch of images\n",
    "        \"\"\"\n",
    "        # Initialization\n",
    "        X = np.empty((self.batch_size, *self.dim, self.channels))\n",
    "\n",
    "        # Generate data\n",
    "        for i, ID in enumerate(Batch_Idx):\n",
    "            # Store sample\n",
    "            X[i,] = self._load_image(self.Imgs[ID])\n",
    "\n",
    "        return X\n",
    "\n",
    "    def _generate_y_bck(self, Batch_Idx):\n",
    "        \"\"\"Generates data containing batch_size masks\n",
    "        :param list_IDs_temp: list of label ids to load\n",
    "        :return: batch if masks\n",
    "        \"\"\"\n",
    "        y = np.empty((self.batch_size, *self.dim), dtype=int)\n",
    "\n",
    "        # Generate data\n",
    "        for i, ID in enumerate(Batch_Idx):\n",
    "            # Store sample\n",
    "            y[i,] = self._load_image(self.mask_path + self.labels[ID])\n",
    "\n",
    "        return y\n",
    "    \n",
    "    def _generate_y(self, Batch_Idx):\n",
    "        y = self.y[Batch_Idx,:]\n",
    "        return y\n",
    "    \n",
    "    def hot_encode_y(self):\n",
    "        self.y = pd.get_dummies(pd.Categorical(self.y_var)).values\n",
    "        print(\"Number of Encodings is {}\".format(self.y.shape[1]))\n",
    "        self.y_dim = self.y.shape[1]\n",
    "        \n",
    "\n",
    "\n",
    "    def _load_image(self, image_path):\n",
    "        \n",
    "        img = cv2.imread(image_path,  self.read_mode) #load an image as grayscale\n",
    "        \n",
    "        if img.shape != self.dim:\n",
    "            img = cv2.resize(img, self.dim)\n",
    "        \n",
    "        img = self._flip_vertical(img)\n",
    "        \n",
    "        img = self._flip_horizontal(img)\n",
    "        \n",
    "        img = self._rotate(img)\n",
    "        \n",
    "        img = self._shear(img)\n",
    "        \n",
    "        img = img/255.0\n",
    "        \n",
    "        img = img.reshape(self.dim[0],self.dim[1],self.channels)\n",
    "\n",
    "        return(img)\n",
    "        \n",
    "    def _flip_vertical(self, img):\n",
    "        \"\"\"Flips and image on a  vertica axis, as set by v_flip,\n",
    "        if set to zero, will never flip the image \"\"\"\n",
    "        if 1 - self.v_flip < np.random.uniform():\n",
    "            img = cv2.flip(img,1)\n",
    "            return(img)\n",
    "        else:\n",
    "            return(img)\n",
    "        \n",
    "    def _flip_horizontal(self, img):\n",
    "        \"\"\"Flips and image on a horizontal axis, as set by v_flip,\n",
    "        if set to zero, will never flip the image \"\"\"\n",
    "        if 1 - self.h_flip < np.random.uniform():\n",
    "            img = cv2.flip(img,0)\n",
    "            return(img)\n",
    "        else:\n",
    "            return(img)\n",
    "        \n",
    "    def _rotate(self, img):\n",
    "        if 1 - self.r_prob < np.random.uniform():\n",
    "            rows, cols = img.shape[0], img.shape[1]\n",
    "            #TODO allow a rotation both forward and backwards\n",
    "            Rot_M = cv2.getRotationMatrix2D((cols / 2, rows / 2), np.random.uniform(self.r_deg), 1)\n",
    "            img = cv2.warpAffine(img, Rot_M, (cols, rows))\n",
    "            return(img)\n",
    "        else:\n",
    "            return(img)\n",
    "        \n",
    "    def _shear(self, img):\n",
    "        \"\"\"\n",
    "        https://blog.paperspace.com/data-augmentation-for-object-detection-rotation-and-shearing/\n",
    "        \"\"\"\n",
    "        if 1 - self.s_prob < np.random.uniform():\n",
    "            #TODO allow a shear both forward and backwards\n",
    "            rows, cols = img.shape[0], img.shape[1]\n",
    "            \n",
    "            shear_factor = np.random.uniform(self.s_fact)\n",
    "            \n",
    "            M = np.array([[1, shear_factor, 0],[0,1,0]])\n",
    "            nW =  RR.shape[1] + abs(shear_factor*img.shape[0])\n",
    "            img = cv2.warpAffine(img, M, (int(nW), img.shape[0]))\n",
    "            img = cv2.resize(img, (cols,rows))\n",
    "            return(img)\n",
    "        else:\n",
    "            return(img)"
   ]
  },
  {
   "cell_type": "markdown",
   "metadata": {},
   "source": [
    "## Reading in CSV training Spot"
   ]
  },
  {
   "cell_type": "code",
   "execution_count": 2,
   "metadata": {},
   "outputs": [
    {
     "data": {
      "text/html": [
       "<div>\n",
       "<style scoped>\n",
       "    .dataframe tbody tr th:only-of-type {\n",
       "        vertical-align: middle;\n",
       "    }\n",
       "\n",
       "    .dataframe tbody tr th {\n",
       "        vertical-align: top;\n",
       "    }\n",
       "\n",
       "    .dataframe thead th {\n",
       "        text-align: right;\n",
       "    }\n",
       "</style>\n",
       "<table border=\"1\" class=\"dataframe\">\n",
       "  <thead>\n",
       "    <tr style=\"text-align: right;\">\n",
       "      <th></th>\n",
       "      <th>image_id</th>\n",
       "      <th>grapheme_root</th>\n",
       "      <th>vowel_diacritic</th>\n",
       "      <th>consonant_diacritic</th>\n",
       "      <th>grapheme</th>\n",
       "      <th>Train</th>\n",
       "      <th>Image_Dir</th>\n",
       "    </tr>\n",
       "  </thead>\n",
       "  <tbody>\n",
       "    <tr>\n",
       "      <td>0</td>\n",
       "      <td>Train_0</td>\n",
       "      <td>15</td>\n",
       "      <td>9</td>\n",
       "      <td>5</td>\n",
       "      <td>ক্ট্রো</td>\n",
       "      <td>0</td>\n",
       "      <td>../Data/Train/Train_0.jpg</td>\n",
       "    </tr>\n",
       "    <tr>\n",
       "      <td>1</td>\n",
       "      <td>Train_1</td>\n",
       "      <td>159</td>\n",
       "      <td>0</td>\n",
       "      <td>0</td>\n",
       "      <td>হ</td>\n",
       "      <td>0</td>\n",
       "      <td>../Data/Train/Train_1.jpg</td>\n",
       "    </tr>\n",
       "    <tr>\n",
       "      <td>2</td>\n",
       "      <td>Train_2</td>\n",
       "      <td>22</td>\n",
       "      <td>3</td>\n",
       "      <td>5</td>\n",
       "      <td>খ্রী</td>\n",
       "      <td>0</td>\n",
       "      <td>../Data/Train/Train_2.jpg</td>\n",
       "    </tr>\n",
       "    <tr>\n",
       "      <td>3</td>\n",
       "      <td>Train_3</td>\n",
       "      <td>53</td>\n",
       "      <td>2</td>\n",
       "      <td>2</td>\n",
       "      <td>র্টি</td>\n",
       "      <td>1</td>\n",
       "      <td>../Data/Test/Train_3.jpg</td>\n",
       "    </tr>\n",
       "    <tr>\n",
       "      <td>4</td>\n",
       "      <td>Train_4</td>\n",
       "      <td>71</td>\n",
       "      <td>9</td>\n",
       "      <td>5</td>\n",
       "      <td>থ্রো</td>\n",
       "      <td>0</td>\n",
       "      <td>../Data/Train/Train_4.jpg</td>\n",
       "    </tr>\n",
       "  </tbody>\n",
       "</table>\n",
       "</div>"
      ],
      "text/plain": [
       "  image_id  grapheme_root  vowel_diacritic  consonant_diacritic grapheme  \\\n",
       "0  Train_0             15                9                    5   ক্ট্রো   \n",
       "1  Train_1            159                0                    0        হ   \n",
       "2  Train_2             22                3                    5     খ্রী   \n",
       "3  Train_3             53                2                    2     র্টি   \n",
       "4  Train_4             71                9                    5     থ্রো   \n",
       "\n",
       "   Train                  Image_Dir  \n",
       "0      0  ../Data/Train/Train_0.jpg  \n",
       "1      0  ../Data/Train/Train_1.jpg  \n",
       "2      0  ../Data/Train/Train_2.jpg  \n",
       "3      1   ../Data/Test/Train_3.jpg  \n",
       "4      0  ../Data/Train/Train_4.jpg  "
      ]
     },
     "execution_count": 2,
     "metadata": {},
     "output_type": "execute_result"
    }
   ],
   "source": [
    "CSV = pd.read_csv('../Data/train_extra.csv')\n",
    "CSV.head()"
   ]
  },
  {
   "cell_type": "markdown",
   "metadata": {},
   "source": [
    "## Loading Model"
   ]
  },
  {
   "cell_type": "code",
   "execution_count": null,
   "metadata": {},
   "outputs": [],
   "source": [
    "MobileNetV2"
   ]
  },
  {
   "cell_type": "code",
   "execution_count": null,
   "metadata": {},
   "outputs": [],
   "source": []
  },
  {
   "cell_type": "code",
   "execution_count": 3,
   "metadata": {},
   "outputs": [
    {
     "data": {
      "text/plain": [
       "array([ 0,  1,  2,  3,  4,  6,  7,  8,  9, 11, 12, 13, 14, 16, 17, 18, 19,\n",
       "       20, 21, 23, 24, 25, 26, 27, 28, 29, 30, 32, 33, 35, 36, 37, 38, 39,\n",
       "       40, 41, 42, 43, 44, 45, 46, 47, 48, 49, 50, 51, 52, 53, 54, 55, 56,\n",
       "       57, 58, 59, 60, 61, 62, 63, 64, 65, 66, 68, 69, 71, 72, 73, 74, 75,\n",
       "       76, 77, 78, 79, 80, 81, 82, 83, 85, 86, 87, 88, 89, 91, 92, 93, 94,\n",
       "       95, 96, 97, 98, 99])"
      ]
     },
     "execution_count": 3,
     "metadata": {},
     "output_type": "execute_result"
    }
   ],
   "source": [
    "TT = np.arange(100)\n",
    "RR = np.random.choice(100,10,False)\n",
    "np.delete(TT, RR)"
   ]
  },
  {
   "cell_type": "code",
   "execution_count": 30,
   "metadata": {},
   "outputs": [
    {
     "data": {
      "text/plain": [
       "200840"
      ]
     },
     "execution_count": 30,
     "metadata": {},
     "output_type": "execute_result"
    }
   ],
   "source": [
    "CSV.consonant_diacritic.values.shape[0]\n"
   ]
  },
  {
   "cell_type": "code",
   "execution_count": 154,
   "metadata": {},
   "outputs": [],
   "source": [
    "#https://towardsdatascience.com/keras-data-generators-and-how-to-use-them-b69129ed779c\n",
    "\n",
    "class DataGenerator(Sequence):\n",
    "    \"\"\"Generates data for Keras\n",
    "    Sequence based data generator. Suitable for building data generator for training and prediction.\n",
    "    \"\"\"\n",
    "    def __init__(self,\n",
    "                 csv_file, # file that has the images on it, as well as the image types\n",
    "                 y_var = ['root','vowel','consonant'] ,\n",
    "                 to_fit=True,\n",
    "                 batch_size=32,\n",
    "                 dim = (90,160),\n",
    "                 channels = 1,\n",
    "                 vertical_flip = 0,\n",
    "                 horizontal_flip = 0,\n",
    "                 rotate = (0,0), #PRob, max roatioan\n",
    "                 shear = (0,0), # prob, max_shear\n",
    "                 shuffle=True):\n",
    "        \"\"\"Initialization\n",
    "        :param csv_File #CSV file that has the path to the stores on it\n",
    "        :param labels: list of image labels (file names)\n",
    "        :param image_path: path to images location\n",
    "        :param mask_path: path to masks location\n",
    "        :param to_fit: True to return X and y, False to return X only\n",
    "        :param batch_size: batch size at each iteration\n",
    "        :param dim: tuple indicating image dimension\n",
    "        :param n_channels: number of image channels\n",
    "        :param n_classes: number of output masks\n",
    "        :param shuffle: True to shuffle label indexes after every epoch\n",
    "        \"\"\"\n",
    "        \n",
    "        #Getting Index that we will use to sort\n",
    "        \n",
    "        self.Idx_List = np.arange(csv_file.shape[0])\n",
    "        \n",
    "        # Loading y_Vars\n",
    "        if isinstance(y_var, list):\n",
    "            y_var = y_var[0]\n",
    "            \n",
    "        if y_var == 'root':\n",
    "            self.y_var = csv_file.grapheme_root.values\n",
    "        elif y_var =='vowel':\n",
    "            self.y_var = csv_file.vowel_diacritic.values\n",
    "        elif y_var == 'consonant':\n",
    "            self.y_var = csv_file.consonant_diacritic.values\n",
    "        else:\n",
    "            print(\"Could not determine what y_var was, please use one of 'root','vowel','const'\")\n",
    "        #TODO Move this to the aabove if statement, removing the need for y_var, and y\n",
    "        self.y_dim = 0\n",
    "        self.hot_encode_y()\n",
    "        \n",
    "        # getting Images Location\n",
    "        self.Imgs = CSV.Image_Dir.values\n",
    "        \n",
    "        #Setting other vars\n",
    "        self.batch_size = batch_size\n",
    "        self.fit = to_fit\n",
    "        self.shuffle = shuffle\n",
    "        \n",
    "        self.dim = dim\n",
    "        self.channels = channels\n",
    "        if self.channels == 1:\n",
    "            self.read_mode = cv2.IMREAD_GRAYSCALE\n",
    "        elif self.channels == 3:\n",
    "            self.read_mode = cv2.IMREAD_COLOR\n",
    "        else:\n",
    "            self.read_mode = cv2.IMREAD_UNCHANGED\n",
    "        \n",
    "        self.v_flip = vertical_flip\n",
    "        self.h_flip = horizontal_flip\n",
    "        \n",
    "        self.r_prob = rotate[0]\n",
    "        self.r_deg = rotate[1]\n",
    "        \n",
    "        self.s_prob = shear[0]\n",
    "        self.s_fact = shear[1]\n",
    "        #self.on_epoch_end()\n",
    "        \n",
    "    def __len__(self):\n",
    "        \"\"\"Denotes the number of batches per epoch\n",
    "        :return: number of batches per epoch\n",
    "        \"\"\"\n",
    "        return int(np.floor(len(self.Idx_List) / self.batch_size))\n",
    "\n",
    "    def __getitem__(self, index):\n",
    "        \"\"\"Generate one batch of data\n",
    "        :param index: index of the batch\n",
    "        :return: X and y when fitting. X only when predicting\n",
    "        \"\"\"\n",
    "        # Generate indexes of the batch\n",
    "        Batch_Idx = self.Idx_List[index * self.batch_size:(index + 1) * self.batch_size]\n",
    "\n",
    "\n",
    "        # Generate data\n",
    "        X = self._generate_X(Batch_Idx)\n",
    "\n",
    "        if self.fit:\n",
    "            y = self._generate_y(Batch_Idx)\n",
    "            return X, y\n",
    "        else:\n",
    "            return X\n",
    "        \n",
    "    #TODO at a def __iter__ and __next__ methodology so we can loop through it!\n",
    "\n",
    "    def on_epoch_end(self):\n",
    "        \"\"\"Updates indexes after each epoch\n",
    "        \"\"\"\n",
    "        self.indexes = np.arange(len(self.list_IDs))\n",
    "        if self.shuffle == True:\n",
    "            np.random.shuffle(self.Idx_List)\n",
    "\n",
    "    def _generate_X(self, Batch_Idx):\n",
    "        \"\"\"Generates data containing batch_size images\n",
    "        :param list_IDs_temp: list of label ids to load\n",
    "        :return: batch of images\n",
    "        \"\"\"\n",
    "        # Initialization\n",
    "        X = np.empty((self.batch_size, *self.dim, self.channels))\n",
    "\n",
    "        # Generate data\n",
    "        for i, ID in enumerate(Batch_Idx):\n",
    "            # Store sample\n",
    "            X[i,] = self._load_image(self.Imgs[ID])\n",
    "\n",
    "        return X\n",
    "\n",
    "    def _generate_y_bck(self, Batch_Idx):\n",
    "        \"\"\"Generates data containing batch_size masks\n",
    "        :param list_IDs_temp: list of label ids to load\n",
    "        :return: batch if masks\n",
    "        \"\"\"\n",
    "        y = np.empty((self.batch_size, *self.dim), dtype=int)\n",
    "\n",
    "        # Generate data\n",
    "        for i, ID in enumerate(Batch_Idx):\n",
    "            # Store sample\n",
    "            y[i,] = self._load_image(self.mask_path + self.labels[ID])\n",
    "\n",
    "        return y\n",
    "    \n",
    "    def _generate_y(self, Batch_Idx):\n",
    "        y = self.y[Batch_Idx,:]\n",
    "        return y\n",
    "    \n",
    "    def hot_encode_y(self):\n",
    "        self.y = pd.get_dummies(pd.Categorical(self.y_var)).values\n",
    "        print(\"Number of Encodings is {}\".format(self.y.shape[1]))\n",
    "        self.y_dim = self.y.shape[1]\n",
    "        \n",
    "\n",
    "\n",
    "    def _load_image(self, image_path):\n",
    "        \n",
    "        img = cv2.imread(image_path,  self.read_mode) #load an image as grayscale\n",
    "        \n",
    "        if img.shape != self.dim:\n",
    "            img = cv2.resize(img, self.dim)\n",
    "        \n",
    "        img = self._flip_vertical(img)\n",
    "        \n",
    "        img = self._flip_horizontal(img)\n",
    "        \n",
    "        img = self._rotate(img)\n",
    "        \n",
    "        img = self._shear(img)\n",
    "        \n",
    "        img = img/255.0\n",
    "        \n",
    "        img = img.reshape(self.dim[0],self.dim[1],self.channels)\n",
    "\n",
    "        return(img)\n",
    "        \n",
    "    def _flip_vertical(self, img):\n",
    "        \"\"\"Flips and image on a  vertica axis, as set by v_flip,\n",
    "        if set to zero, will never flip the image \"\"\"\n",
    "        if 1 - self.v_flip < np.random.uniform():\n",
    "            img = cv2.flip(img,1)\n",
    "            return(img)\n",
    "        else:\n",
    "            return(img)\n",
    "        \n",
    "    def _flip_horizontal(self, img):\n",
    "        \"\"\"Flips and image on a horizontal axis, as set by v_flip,\n",
    "        if set to zero, will never flip the image \"\"\"\n",
    "        if 1 - self.h_flip < np.random.uniform():\n",
    "            img = cv2.flip(img,0)\n",
    "            return(img)\n",
    "        else:\n",
    "            return(img)\n",
    "    def _rotate(self, img):\n",
    "        if 1 - self.r_prob < np.random.uniform():\n",
    "            rows, cols = img.shape[0], img.shape[1]\n",
    "            Rot_M = cv2.getRotationMatrix2D((cols / 2, rows / 2), np.random.uniform(self.r_deg), 1)\n",
    "            img = cv2.warpAffine(img, Rot_M, (cols, rows))\n",
    "            return(img)\n",
    "        else:\n",
    "            return(img)\n",
    "        \n",
    "    def _shear(self, img):\n",
    "        \"\"\"\n",
    "        https://blog.paperspace.com/data-augmentation-for-object-detection-rotation-and-shearing/\n",
    "        \"\"\"\n",
    "        if 1 - self.s_prob < np.random.uniform():\n",
    "            rows, cols = img.shape[0], img.shape[1]\n",
    "            \n",
    "            shear_factor = np.random.uniform(self.s_fact)\n",
    "            \n",
    "            M = np.array([[1, shear_factor, 0],[0,1,0]])\n",
    "            nW =  RR.shape[1] + abs(shear_factor*img.shape[0])\n",
    "            img = cv2.warpAffine(img, M, (int(nW), img.shape[0]))\n",
    "            img = cv2.resize(img, (cols,rows))\n",
    "            return(img)\n",
    "        else:\n",
    "            return(img)\n",
    "        \n"
   ]
  },
  {
   "cell_type": "code",
   "execution_count": 160,
   "metadata": {},
   "outputs": [
    {
     "name": "stdout",
     "output_type": "stream",
     "text": [
      "Number of Encodings is 168\n"
     ]
    }
   ],
   "source": [
    "dg = DataGenerator(csv_file = CSV, vertical_flip = 0.5, horizontal_flip = 0.5, shear = (0.5, 0.5))"
   ]
  },
  {
   "cell_type": "code",
   "execution_count": 241,
   "metadata": {},
   "outputs": [
    {
     "ename": "AssertionError",
     "evalue": "101 is not between 1 and 100",
     "output_type": "error",
     "traceback": [
      "\u001b[0;31m---------------------------------------------------------------------------\u001b[0m",
      "\u001b[0;31mAssertionError\u001b[0m                            Traceback (most recent call last)",
      "\u001b[0;32m<ipython-input-241-eabc1e7a2b7e>\u001b[0m in \u001b[0;36m<module>\u001b[0;34m\u001b[0m\n\u001b[1;32m      1\u001b[0m \u001b[0mxxx\u001b[0m \u001b[0;34m=\u001b[0m \u001b[0;36m101\u001b[0m\u001b[0;34m\u001b[0m\u001b[0;34m\u001b[0m\u001b[0m\n\u001b[1;32m      2\u001b[0m \u001b[0;34m\u001b[0m\u001b[0m\n\u001b[0;32m----> 3\u001b[0;31m \u001b[0;32massert\u001b[0m \u001b[0;36m1\u001b[0m \u001b[0;34m<\u001b[0m \u001b[0mxxx\u001b[0m \u001b[0;34m<\u001b[0m \u001b[0;36m100\u001b[0m\u001b[0;34m,\u001b[0m \u001b[0;34m'{} is not between 1 and 100'\u001b[0m\u001b[0;34m.\u001b[0m\u001b[0mformat\u001b[0m\u001b[0;34m(\u001b[0m\u001b[0mxxx\u001b[0m\u001b[0;34m)\u001b[0m\u001b[0;34m\u001b[0m\u001b[0;34m\u001b[0m\u001b[0m\n\u001b[0m\u001b[1;32m      4\u001b[0m \u001b[0mprint\u001b[0m\u001b[0;34m(\u001b[0m\u001b[0;36m1\u001b[0m\u001b[0;34m)\u001b[0m\u001b[0;34m\u001b[0m\u001b[0;34m\u001b[0m\u001b[0m\n",
      "\u001b[0;31mAssertionError\u001b[0m: 101 is not between 1 and 100"
     ]
    }
   ],
   "source": [
    "xxx = 101\n",
    "\n",
    "assert 1 < xxx < 100, '{} is not between 1 and 100'.format(xxx)\n",
    "print(1)"
   ]
  },
  {
   "cell_type": "code",
   "execution_count": 239,
   "metadata": {},
   "outputs": [
    {
     "data": {
      "text/plain": [
       "<matplotlib.image.AxesImage at 0x7efb3b9a66d8>"
      ]
     },
     "execution_count": 239,
     "metadata": {},
     "output_type": "execute_result"
    },
    {
     "data": {
      "image/png": "[encoded data removed]",
      "text/plain": [
       "<Figure size 432x288 with 1 Axes>"
      ]
     },
     "metadata": {
      "needs_background": "light"
     },
     "output_type": "display_data"
    }
   ],
   "source": [
    "XX, YY = dg[1]\n",
    "\n",
    "plt.imshow(XX[31].reshape(90,160))"
   ]
  },
  {
   "cell_type": "code",
   "execution_count": 162,
   "metadata": {},
   "outputs": [
    {
     "data": {
      "text/plain": [
       "array([[0., 0., 0., ..., 0., 0., 0.],\n",
       "       [0., 0., 0., ..., 0., 0., 0.],\n",
       "       [0., 0., 0., ..., 0., 0., 0.],\n",
       "       ...,\n",
       "       [0., 0., 0., ..., 0., 0., 0.],\n",
       "       [0., 0., 0., ..., 0., 0., 0.],\n",
       "       [0., 0., 0., ..., 0., 0., 0.]])"
      ]
     },
     "execution_count": 162,
     "metadata": {},
     "output_type": "execute_result"
    }
   ],
   "source": [
    "XX[1].reshape(90,160)"
   ]
  },
  {
   "cell_type": "code",
   "execution_count": 53,
   "metadata": {},
   "outputs": [
    {
     "data": {
      "text/plain": [
       "(90, 160, 1)"
      ]
     },
     "execution_count": 53,
     "metadata": {},
     "output_type": "execute_result"
    }
   ],
   "source": [
    "RR = cv2.imread('../Data/Train/Train_0.jpg', cv2.IMREAD_GRAYSCALE)\n",
    "RR = RR.reshape(90,160,1)\n",
    "RR.shape"
   ]
  },
  {
   "cell_type": "code",
   "execution_count": 54,
   "metadata": {},
   "outputs": [
    {
     "ename": "TypeError",
     "evalue": "Invalid shape (90, 160, 1) for image data",
     "output_type": "error",
     "traceback": [
      "\u001b[0;31m---------------------------------------------------------------------------\u001b[0m",
      "\u001b[0;31mTypeError\u001b[0m                                 Traceback (most recent call last)",
      "\u001b[0;32m<ipython-input-54-0c0293064e09>\u001b[0m in \u001b[0;36m<module>\u001b[0;34m\u001b[0m\n\u001b[0;32m----> 1\u001b[0;31m \u001b[0mplt\u001b[0m\u001b[0;34m.\u001b[0m\u001b[0mimshow\u001b[0m\u001b[0;34m(\u001b[0m\u001b[0mRR\u001b[0m\u001b[0;34m)\u001b[0m\u001b[0;34m\u001b[0m\u001b[0;34m\u001b[0m\u001b[0m\n\u001b[0m",
      "\u001b[0;32m~/.local/lib/python3.6/site-packages/matplotlib/pyplot.py\u001b[0m in \u001b[0;36mimshow\u001b[0;34m(X, cmap, norm, aspect, interpolation, alpha, vmin, vmax, origin, extent, shape, filternorm, filterrad, imlim, resample, url, data, **kwargs)\u001b[0m\n\u001b[1;32m   2681\u001b[0m         \u001b[0mfilternorm\u001b[0m\u001b[0;34m=\u001b[0m\u001b[0mfilternorm\u001b[0m\u001b[0;34m,\u001b[0m \u001b[0mfilterrad\u001b[0m\u001b[0;34m=\u001b[0m\u001b[0mfilterrad\u001b[0m\u001b[0;34m,\u001b[0m \u001b[0mimlim\u001b[0m\u001b[0;34m=\u001b[0m\u001b[0mimlim\u001b[0m\u001b[0;34m,\u001b[0m\u001b[0;34m\u001b[0m\u001b[0;34m\u001b[0m\u001b[0m\n\u001b[1;32m   2682\u001b[0m         resample=resample, url=url, **({\"data\": data} if data is not\n\u001b[0;32m-> 2683\u001b[0;31m         None else {}), **kwargs)\n\u001b[0m\u001b[1;32m   2684\u001b[0m     \u001b[0msci\u001b[0m\u001b[0;34m(\u001b[0m\u001b[0m__ret\u001b[0m\u001b[0;34m)\u001b[0m\u001b[0;34m\u001b[0m\u001b[0;34m\u001b[0m\u001b[0m\n\u001b[1;32m   2685\u001b[0m     \u001b[0;32mreturn\u001b[0m \u001b[0m__ret\u001b[0m\u001b[0;34m\u001b[0m\u001b[0;34m\u001b[0m\u001b[0m\n",
      "\u001b[0;32m~/.local/lib/python3.6/site-packages/matplotlib/__init__.py\u001b[0m in \u001b[0;36minner\u001b[0;34m(ax, data, *args, **kwargs)\u001b[0m\n\u001b[1;32m   1599\u001b[0m     \u001b[0;32mdef\u001b[0m \u001b[0minner\u001b[0m\u001b[0;34m(\u001b[0m\u001b[0max\u001b[0m\u001b[0;34m,\u001b[0m \u001b[0;34m*\u001b[0m\u001b[0margs\u001b[0m\u001b[0;34m,\u001b[0m \u001b[0mdata\u001b[0m\u001b[0;34m=\u001b[0m\u001b[0;32mNone\u001b[0m\u001b[0;34m,\u001b[0m \u001b[0;34m**\u001b[0m\u001b[0mkwargs\u001b[0m\u001b[0;34m)\u001b[0m\u001b[0;34m:\u001b[0m\u001b[0;34m\u001b[0m\u001b[0;34m\u001b[0m\u001b[0m\n\u001b[1;32m   1600\u001b[0m         \u001b[0;32mif\u001b[0m \u001b[0mdata\u001b[0m \u001b[0;32mis\u001b[0m \u001b[0;32mNone\u001b[0m\u001b[0;34m:\u001b[0m\u001b[0;34m\u001b[0m\u001b[0;34m\u001b[0m\u001b[0m\n\u001b[0;32m-> 1601\u001b[0;31m             \u001b[0;32mreturn\u001b[0m \u001b[0mfunc\u001b[0m\u001b[0;34m(\u001b[0m\u001b[0max\u001b[0m\u001b[0;34m,\u001b[0m \u001b[0;34m*\u001b[0m\u001b[0mmap\u001b[0m\u001b[0;34m(\u001b[0m\u001b[0msanitize_sequence\u001b[0m\u001b[0;34m,\u001b[0m \u001b[0margs\u001b[0m\u001b[0;34m)\u001b[0m\u001b[0;34m,\u001b[0m \u001b[0;34m**\u001b[0m\u001b[0mkwargs\u001b[0m\u001b[0;34m)\u001b[0m\u001b[0;34m\u001b[0m\u001b[0;34m\u001b[0m\u001b[0m\n\u001b[0m\u001b[1;32m   1602\u001b[0m \u001b[0;34m\u001b[0m\u001b[0m\n\u001b[1;32m   1603\u001b[0m         \u001b[0mbound\u001b[0m \u001b[0;34m=\u001b[0m \u001b[0mnew_sig\u001b[0m\u001b[0;34m.\u001b[0m\u001b[0mbind\u001b[0m\u001b[0;34m(\u001b[0m\u001b[0max\u001b[0m\u001b[0;34m,\u001b[0m \u001b[0;34m*\u001b[0m\u001b[0margs\u001b[0m\u001b[0;34m,\u001b[0m \u001b[0;34m**\u001b[0m\u001b[0mkwargs\u001b[0m\u001b[0;34m)\u001b[0m\u001b[0;34m\u001b[0m\u001b[0;34m\u001b[0m\u001b[0m\n",
      "\u001b[0;32m~/.local/lib/python3.6/site-packages/matplotlib/cbook/deprecation.py\u001b[0m in \u001b[0;36mwrapper\u001b[0;34m(*args, **kwargs)\u001b[0m\n\u001b[1;32m    367\u001b[0m                 \u001b[0;34mf\"%(removal)s.  If any parameter follows {name!r}, they \"\u001b[0m\u001b[0;34m\u001b[0m\u001b[0;34m\u001b[0m\u001b[0m\n\u001b[1;32m    368\u001b[0m                 f\"should be pass as keyword, not positionally.\")\n\u001b[0;32m--> 369\u001b[0;31m         \u001b[0;32mreturn\u001b[0m \u001b[0mfunc\u001b[0m\u001b[0;34m(\u001b[0m\u001b[0;34m*\u001b[0m\u001b[0margs\u001b[0m\u001b[0;34m,\u001b[0m \u001b[0;34m**\u001b[0m\u001b[0mkwargs\u001b[0m\u001b[0;34m)\u001b[0m\u001b[0;34m\u001b[0m\u001b[0;34m\u001b[0m\u001b[0m\n\u001b[0m\u001b[1;32m    370\u001b[0m \u001b[0;34m\u001b[0m\u001b[0m\n\u001b[1;32m    371\u001b[0m     \u001b[0;32mreturn\u001b[0m \u001b[0mwrapper\u001b[0m\u001b[0;34m\u001b[0m\u001b[0;34m\u001b[0m\u001b[0m\n",
      "\u001b[0;32m~/.local/lib/python3.6/site-packages/matplotlib/cbook/deprecation.py\u001b[0m in \u001b[0;36mwrapper\u001b[0;34m(*args, **kwargs)\u001b[0m\n\u001b[1;32m    367\u001b[0m                 \u001b[0;34mf\"%(removal)s.  If any parameter follows {name!r}, they \"\u001b[0m\u001b[0;34m\u001b[0m\u001b[0;34m\u001b[0m\u001b[0m\n\u001b[1;32m    368\u001b[0m                 f\"should be pass as keyword, not positionally.\")\n\u001b[0;32m--> 369\u001b[0;31m         \u001b[0;32mreturn\u001b[0m \u001b[0mfunc\u001b[0m\u001b[0;34m(\u001b[0m\u001b[0;34m*\u001b[0m\u001b[0margs\u001b[0m\u001b[0;34m,\u001b[0m \u001b[0;34m**\u001b[0m\u001b[0mkwargs\u001b[0m\u001b[0;34m)\u001b[0m\u001b[0;34m\u001b[0m\u001b[0;34m\u001b[0m\u001b[0m\n\u001b[0m\u001b[1;32m    370\u001b[0m \u001b[0;34m\u001b[0m\u001b[0m\n\u001b[1;32m    371\u001b[0m     \u001b[0;32mreturn\u001b[0m \u001b[0mwrapper\u001b[0m\u001b[0;34m\u001b[0m\u001b[0;34m\u001b[0m\u001b[0m\n",
      "\u001b[0;32m~/.local/lib/python3.6/site-packages/matplotlib/axes/_axes.py\u001b[0m in \u001b[0;36mimshow\u001b[0;34m(self, X, cmap, norm, aspect, interpolation, alpha, vmin, vmax, origin, extent, shape, filternorm, filterrad, imlim, resample, url, **kwargs)\u001b[0m\n\u001b[1;32m   5669\u001b[0m                               resample=resample, **kwargs)\n\u001b[1;32m   5670\u001b[0m \u001b[0;34m\u001b[0m\u001b[0m\n\u001b[0;32m-> 5671\u001b[0;31m         \u001b[0mim\u001b[0m\u001b[0;34m.\u001b[0m\u001b[0mset_data\u001b[0m\u001b[0;34m(\u001b[0m\u001b[0mX\u001b[0m\u001b[0;34m)\u001b[0m\u001b[0;34m\u001b[0m\u001b[0;34m\u001b[0m\u001b[0m\n\u001b[0m\u001b[1;32m   5672\u001b[0m         \u001b[0mim\u001b[0m\u001b[0;34m.\u001b[0m\u001b[0mset_alpha\u001b[0m\u001b[0;34m(\u001b[0m\u001b[0malpha\u001b[0m\u001b[0;34m)\u001b[0m\u001b[0;34m\u001b[0m\u001b[0;34m\u001b[0m\u001b[0m\n\u001b[1;32m   5673\u001b[0m         \u001b[0;32mif\u001b[0m \u001b[0mim\u001b[0m\u001b[0;34m.\u001b[0m\u001b[0mget_clip_path\u001b[0m\u001b[0;34m(\u001b[0m\u001b[0;34m)\u001b[0m \u001b[0;32mis\u001b[0m \u001b[0;32mNone\u001b[0m\u001b[0;34m:\u001b[0m\u001b[0;34m\u001b[0m\u001b[0;34m\u001b[0m\u001b[0m\n",
      "\u001b[0;32m~/.local/lib/python3.6/site-packages/matplotlib/image.py\u001b[0m in \u001b[0;36mset_data\u001b[0;34m(self, A)\u001b[0m\n\u001b[1;32m    688\u001b[0m                 or self._A.ndim == 3 and self._A.shape[-1] in [3, 4]):\n\u001b[1;32m    689\u001b[0m             raise TypeError(\"Invalid shape {} for image data\"\n\u001b[0;32m--> 690\u001b[0;31m                             .format(self._A.shape))\n\u001b[0m\u001b[1;32m    691\u001b[0m \u001b[0;34m\u001b[0m\u001b[0m\n\u001b[1;32m    692\u001b[0m         \u001b[0;32mif\u001b[0m \u001b[0mself\u001b[0m\u001b[0;34m.\u001b[0m\u001b[0m_A\u001b[0m\u001b[0;34m.\u001b[0m\u001b[0mndim\u001b[0m \u001b[0;34m==\u001b[0m \u001b[0;36m3\u001b[0m\u001b[0;34m:\u001b[0m\u001b[0;34m\u001b[0m\u001b[0;34m\u001b[0m\u001b[0m\n",
      "\u001b[0;31mTypeError\u001b[0m: Invalid shape (90, 160, 1) for image data"
     ]
    },
    {
     "data": {
      "image/png": "[encoded data removed]",
      "text/plain": [
       "<Figure size 432x288 with 1 Axes>"
      ]
     },
     "metadata": {
      "needs_background": "light"
     },
     "output_type": "display_data"
    }
   ],
   "source": [
    "plt.imshow(RR)"
   ]
  },
  {
   "cell_type": "code",
   "execution_count": 56,
   "metadata": {},
   "outputs": [
    {
     "data": {
      "text/plain": [
       "False"
      ]
     },
     "execution_count": 56,
     "metadata": {},
     "output_type": "execute_result"
    }
   ],
   "source": [
    "XX = (1,2,3)\n",
    "YY = (1,2,4)\n",
    "\n",
    "XX == YY"
   ]
  },
  {
   "cell_type": "code",
   "execution_count": 120,
   "metadata": {},
   "outputs": [
    {
     "data": {
      "text/plain": [
       "(90, 160)"
      ]
     },
     "execution_count": 120,
     "metadata": {},
     "output_type": "execute_result"
    }
   ],
   "source": [
    " cv2.cvtColor(RR, cv2.COLOR_BGR2GRAY).shape"
   ]
  },
  {
   "cell_type": "code",
   "execution_count": null,
   "metadata": {},
   "outputs": [],
   "source": []
  },
  {
   "cell_type": "code",
   "execution_count": 105,
   "metadata": {},
   "outputs": [
    {
     "data": {
      "text/plain": [
       "<matplotlib.image.AxesImage at 0x7f04db4b4128>"
      ]
     },
     "execution_count": 105,
     "metadata": {},
     "output_type": "execute_result"
    },
    {
     "data": {
      "image/png": "[encoded data removed]",
      "text/plain": [
       "<Figure size 432x288 with 1 Axes>"
      ]
     },
     "metadata": {
      "needs_background": "light"
     },
     "output_type": "display_data"
    }
   ],
   "source": [
    "rows, cols = RR.shape[0], RR.shape[1]a\n",
    "shear_factor = np.random.uniform(0.5)\n",
    "M = np.array([[1, shear_factor, 0],[0,1,0]])\n",
    "nW =  RR.shape[1] + abs(shear_factor*RR.shape[0])\n",
    "img_shr = cv2.warpAffine(RR, M, (int(nW), RR.shape[0]))\n",
    "img_shr = cv2.resize(img_shr, (cols,rows))\n",
    "plt.imshow(img_shr)"
   ]
  },
  {
   "cell_type": "code",
   "execution_count": 245,
   "metadata": {},
   "outputs": [
    {
     "data": {
      "text/plain": [
       "\u001b[0;31mDocstring:\u001b[0m\n",
       "getRotationMatrix2D(center, angle, scale) -> retval\n",
       ".   @brief Calculates an affine matrix of 2D rotation.\n",
       ".   \n",
       ".   The function calculates the following matrix:\n",
       ".   \n",
       ".   \\f[\\begin{bmatrix} \\alpha &  \\beta & (1- \\alpha )  \\cdot \\texttt{center.x} -  \\beta \\cdot \\texttt{center.y} \\\\ - \\beta &  \\alpha &  \\beta \\cdot \\texttt{center.x} + (1- \\alpha )  \\cdot \\texttt{center.y} \\end{bmatrix}\\f]\n",
       ".   \n",
       ".   where\n",
       ".   \n",
       ".   \\f[\\begin{array}{l} \\alpha =  \\texttt{scale} \\cdot \\cos \\texttt{angle} , \\\\ \\beta =  \\texttt{scale} \\cdot \\sin \\texttt{angle} \\end{array}\\f]\n",
       ".   \n",
       ".   The transformation maps the rotation center to itself. If this is not the target, adjust the shift.\n",
       ".   \n",
       ".   @param center Center of the rotation in the source image.\n",
       ".   @param angle Rotation angle in degrees. Positive values mean counter-clockwise rotation (the\n",
       ".   coordinate origin is assumed to be the top-left corner).\n",
       ".   @param scale Isotropic scale factor.\n",
       ".   \n",
       ".   @sa  getAffineTransform, warpAffine, transform\n",
       "\u001b[0;31mType:\u001b[0m      builtin_function_or_method\n"
      ]
     },
     "metadata": {},
     "output_type": "display_data"
    }
   ],
   "source": [
    "?cv2.getRotationMatrix2D"
   ]
  },
  {
   "cell_type": "code",
   "execution_count": 246,
   "metadata": {},
   "outputs": [
    {
     "data": {
      "text/plain": [
       "array([[ 0.8660254 ,  0.5       , -1.83012702],\n",
       "       [-0.5       ,  0.8660254 ,  3.16987298]])"
      ]
     },
     "execution_count": 246,
     "metadata": {},
     "output_type": "execute_result"
    }
   ],
   "source": [
    "cv2.getRotationMatrix2D((5,5), 30, 1)"
   ]
  },
  {
   "cell_type": "code",
   "execution_count": 247,
   "metadata": {},
   "outputs": [
    {
     "data": {
      "text/plain": [
       "array([[ 0.8660254 , -0.5       ,  3.16987298],\n",
       "       [ 0.5       ,  0.8660254 , -1.83012702]])"
      ]
     },
     "execution_count": 247,
     "metadata": {},
     "output_type": "execute_result"
    }
   ],
   "source": [
    "cv2.getRotationMatrix2D((5,5), -30, 1)"
   ]
  }
 ],
 "metadata": {
  "kernelspec": {
   "display_name": "Python 3",
   "language": "python",
   "name": "python3"
  },
  "language_info": {
   "codemirror_mode": {
    "name": "ipython",
    "version": 3
   },
   "file_extension": ".py",
   "mimetype": "text/x-python",
   "name": "python",
   "nbconvert_exporter": "python",
   "pygments_lexer": "ipython3",
   "version": "3.6.8"
  }
 },
 "nbformat": 4,
 "nbformat_minor": 4
}
