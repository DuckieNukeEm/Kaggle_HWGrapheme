{
 "cells": [
  {
   "cell_type": "markdown",
   "metadata": {},
   "source": [
    "# Mobilenetv2 for Testing\n",
    "We are going to use a mobilnet to train a model and see how it does\n",
    "\n",
    "____"
   ]
  },
  {
   "cell_type": "markdown",
   "metadata": {},
   "source": [
    "## Loading Packages"
   ]
  },
  {
   "cell_type": "code",
   "execution_count": 55,
   "metadata": {},
   "outputs": [],
   "source": [
    "import numpy as np\n",
    "import pandas as pd\n",
    "\n",
    "import matplotlib.pyplot as plt\n",
    "from tensorflow.keras.applications.mobilenet_v2 import MobileNetV2 #for our model\n",
    "from tensorflow.keras.utils import Sequence, to_categorical # For our own data generator\n",
    "from tensorflow.keras.models import Sequential\n",
    "from tensorflow.keras import layers, optimizers\n",
    "\n",
    "import cv2 # For image processing\n"
   ]
  },
  {
   "cell_type": "markdown",
   "metadata": {},
   "source": [
    "## Building Generator"
   ]
  },
  {
   "cell_type": "code",
   "execution_count": 56,
   "metadata": {},
   "outputs": [],
   "source": [
    "#https://towardsdatascience.com/keras-data-generators-and-how-to-use-them-b69129ed779c\n",
    "\n",
    "class DataGenerator(Sequence):\n",
    "    \"\"\"Generates data for Keras\n",
    "    Sequence based data generator. Suitable for building data generator for training and prediction.\n",
    "    \"\"\"\n",
    "    def __init__(self,\n",
    "                 csv_file, # file that has the images on it, as well as the image types\n",
    "                 y_var = 'grapheme_root', #'grapheme_root','vowel_diacritic','consonant_diacritic' \n",
    "                 to_fit=True,\n",
    "                 batch_size=32,\n",
    "                 dim = (90,160),\n",
    "                 channels = 1,\n",
    "                 vertical_flip = 0,\n",
    "                 horizontal_flip = 0,\n",
    "                 rotate = (0,0), #PRob, max roatioan\n",
    "                 shear = (0,0), # prob, max_shear\n",
    "                 shuffle=True):\n",
    "        \"\"\"Initialization\n",
    "        :param csv_File #CSV file that has the path to the stores on it\n",
    "        :param y_var: a list of 'root','voewl','consonant'\n",
    "        :param to_fit: Provive the dependent variable as well\n",
    "        :param batch_size: The size of each batch to deliver\n",
    "        :param dim: dimensions of the photos to use\n",
    "        :param channels: The number of channals of the photo - 1 is bw, 3 is color, any other is customer\n",
    "        :param vertical_flip: (dbl) The percent chance to flip a photo along a vertical axis\n",
    "        :param horizontal_flip: (dbl) The percent chance to flip a photo along a horiszontal axis\n",
    "        :param rotate: (tuple - (prob, degree)) A two unit tuple, first is the % chance of rotate, the next is the amount of rotation\n",
    "        :param shear: (tuple - (prob, amt)) A two unit tuple, first is the % chance of shear, the next is the amount of shear\n",
    "        :param shuffle: True to shuffle label indexes after every epoch\n",
    "        \"\"\"\n",
    "        \n",
    "        #Getting Index that we will use to sort\n",
    "        \n",
    "        self.Idx_List = np.arange(csv_file.shape[0])\n",
    "        \n",
    "        # Loading y_Vars\n",
    "        if isinstance(y_var, list):\n",
    "            y_var = y_var[0]\n",
    "            \n",
    "        self.y_var = csv_file[y_var].values\n",
    "       \n",
    "        #TODO Move this to the aabove if statement, removing the need for y_var, and y\n",
    "        self.y_dim = 0\n",
    "        self.hot_encode_y()\n",
    "        #self.y = self.y_var\n",
    "        # getting Images Location\n",
    "        self.Imgs = csv_file.Image_Dir.values\n",
    "        \n",
    "        #Setting other vars\n",
    "        self.batch_size = batch_size\n",
    "        self.fit = to_fit\n",
    "        self.shuffle = shuffle\n",
    "        \n",
    "        self.dim = dim\n",
    "        self.channels = channels\n",
    "        if self.channels == 1:\n",
    "            self.read_mode = cv2.IMREAD_GRAYSCALE\n",
    "        elif self.channels == 3:\n",
    "            self.read_mode = cv2.IMREAD_COLOR\n",
    "        else:\n",
    "            self.read_mode = cv2.IMREAD_UNCHANGED\n",
    "        \n",
    "        assert 0 <= vertical_flip <=1, \"vertical_flip = {}, which is not between 0 or 1\".format(vertical_flip)\n",
    "        self.v_flip = vertical_flip\n",
    "        \n",
    "        assert 0 <= horizontal_flip <=1, \"horizontal_flip = {}, which is not between 0 or 1\".format(horizontal_flip)\n",
    "        self.h_flip = horizontal_flip\n",
    "        \n",
    "        assert 0 <= rotate[0] <=1, \"first value of rotate = {}, which is not between 0 or 1\".format(rotate[0])\n",
    "        self.r_prob = rotate[0]\n",
    "        assert 0 <= rotate[1] < 360, \"second value of rotate = {}, which is not between 0 or 359\".format(rotate[1])\n",
    "        self.r_deg = rotate[1]\n",
    "        \n",
    "        assert 0 <= shear[0] <=1, \"first value of shear = {}, which is not between 0 or 1\".format(shear[0])\n",
    "        self.s_prob = shear[0]\n",
    "        \n",
    "        assert 0 <= shear[1] <=359, \"first value of shear = {}, which is not between 0 or 359\".format(shear[1])\n",
    "        self.s_fact = shear[1]\n",
    "        #self.on_epoch_end()\n",
    "        \n",
    "    def __len__(self):\n",
    "        \"\"\"Denotes the number of batches per epoch\n",
    "        :return: number of batches per epoch\n",
    "        \"\"\"\n",
    "        return int(np.floor(len(self.Idx_List) / self.batch_size))\n",
    "\n",
    "    def __getitem__(self, index):\n",
    "        \"\"\"Generate one batch of data\n",
    "        :param index: index of the batch\n",
    "        :return: X and y when fitting. X only when predicting\n",
    "        \"\"\"\n",
    "        # Generate indexes of the batch\n",
    "        Batch_Idx = self.Idx_List[index * self.batch_size:(index + 1) * self.batch_size]\n",
    "\n",
    "\n",
    "        # Generate data\n",
    "        X = self._generate_X(Batch_Idx)\n",
    "\n",
    "        if self.fit:\n",
    "            y = self._generate_y(Batch_Idx)\n",
    "            return X, y\n",
    "        else:\n",
    "            return X\n",
    "        \n",
    "    #TODO at a def __iter__ and __next__ methodology so we can loop through it!\n",
    "\n",
    "    def on_epoch_end(self):\n",
    "        \"\"\"Updates indexes after each epoch\n",
    "        \"\"\"\n",
    "        #self.indexes = np.arange(len(self.list_IDs))\n",
    "        if self.shuffle == True:\n",
    "            np.random.shuffle(self.Idx_List)\n",
    "\n",
    "    def _generate_X(self, Batch_Idx):\n",
    "        \"\"\"Generates data containing batch_size images\n",
    "        :param list_IDs_temp: list of label ids to load\n",
    "        :return: batch of images\n",
    "        \"\"\"\n",
    "        # Initialization\n",
    "        X = np.empty((self.batch_size, *self.dim, self.channels))\n",
    "\n",
    "        # Generate data\n",
    "        for i, ID in enumerate(Batch_Idx):\n",
    "            # Store sample\n",
    "            X[i,] = self._load_image(self.Imgs[ID])\n",
    "\n",
    "        return X\n",
    "\n",
    "    def _generate_y_bck(self, Batch_Idx):\n",
    "        \"\"\"Generates data containing batch_size masks\n",
    "        :param list_IDs_temp: list of label ids to load\n",
    "        :return: batch if masks\n",
    "        \"\"\"\n",
    "        y = np.empty((self.batch_size, *self.dim), dtype=int)\n",
    "\n",
    "        # Generate data\n",
    "        for i, ID in enumerate(Batch_Idx):\n",
    "            # Store sample\n",
    "            y[i,] = self._load_image(self.mask_path + self.labels[ID])\n",
    "\n",
    "        return y\n",
    "    \n",
    "    def _generate_y(self, Batch_Idx):\n",
    "        y = self.y[Batch_Idx,:]\n",
    "        #y = self.y[Batch_Idx]\n",
    "        return y\n",
    "    \n",
    "    def hot_encode_y(self):\n",
    "        #self.y = pd.get_dummies(pd.Categorical(self.y_var)).values\n",
    "        self.y = to_categorical(self.y_var)\n",
    "        print(\"Number of Encodings is {}\".format(self.y.shape[1]))\n",
    "        self.y_dim = self.y.shape[1]\n",
    "        \n",
    "\n",
    "\n",
    "    def _load_image(self, image_path):\n",
    "        \n",
    "        img = cv2.imread(image_path,  self.read_mode) #load an image as grayscale\n",
    "        \n",
    "        if img.shape != self.dim:\n",
    "            img = cv2.resize(img, self.dim)\n",
    "        \n",
    "        img = self._flip_vertical(img)\n",
    "        \n",
    "        img = self._flip_horizontal(img)\n",
    "        \n",
    "        img = self._rotate(img)\n",
    "        \n",
    "        img = self._shear(img)\n",
    "        \n",
    "        img = img/255.0\n",
    "        if self.channels == 1:\n",
    "            #img = img.reshape(self.dim[0],self.dim[1],self.channels)\n",
    "            img = np.expand_dims(img,2)\n",
    "\n",
    "        return(img)\n",
    "        \n",
    "    def _flip_vertical(self, img):\n",
    "        \"\"\"Flips and image on a  vertica axis, as set by v_flip,\n",
    "        if set to zero, will never flip the image \"\"\"\n",
    "        if 1 - self.v_flip < np.random.uniform():\n",
    "            img = cv2.flip(img,1)\n",
    "            return(img)\n",
    "        else:\n",
    "            return(img)\n",
    "        \n",
    "    def _flip_horizontal(self, img):\n",
    "        \"\"\"Flips and image on a horizontal axis, as set by v_flip,\n",
    "        if set to zero, will never flip the image \"\"\"\n",
    "        if 1 - self.h_flip < np.random.uniform():\n",
    "            img = cv2.flip(img,0)\n",
    "            return(img)\n",
    "        else:\n",
    "            return(img)\n",
    "        \n",
    "    def _rotate(self, img):\n",
    "        if 1 - self.r_prob < np.random.uniform():\n",
    "            rows, cols = img.shape[0], img.shape[1]\n",
    "            #TODO allow a rotation both forward and backwards\n",
    "            Rot_M = cv2.getRotationMatrix2D((cols / 2, rows / 2), np.random.uniform(self.r_deg), 1)\n",
    "            img = cv2.warpAffine(img, Rot_M, (cols, rows))\n",
    "            return(img)\n",
    "        else:\n",
    "            return(img)\n",
    "        \n",
    "    def _shear(self, img):\n",
    "        \"\"\"\n",
    "        https://blog.paperspace.com/data-augmentation-for-object-detection-rotation-and-shearing/\n",
    "        \"\"\"\n",
    "        if 1 - self.s_prob < np.random.uniform():\n",
    "            #TODO allow a shear both forward and backwards\n",
    "            rows, cols = img.shape[0], img.shape[1]\n",
    "            \n",
    "            shear_factor = np.random.uniform(self.s_fact)\n",
    "            \n",
    "            M = np.array([[1, shear_factor, 0],[0,1,0]])\n",
    "            nW =  RR.shape[1] + abs(shear_factor*img.shape[0])\n",
    "            img = cv2.warpAffine(img, M, (int(nW), img.shape[0]))\n",
    "            img = cv2.resize(img, (cols,rows))\n",
    "            return(img)\n",
    "        else:\n",
    "            return(img)"
   ]
  },
  {
   "cell_type": "code",
   "execution_count": 161,
   "metadata": {},
   "outputs": [
    {
     "name": "stdout",
     "output_type": "stream",
     "text": [
      "Number of Encodings is 168\n"
     ]
    }
   ],
   "source": [
    "Gen_Train2 = DataGenerator(\n",
    "                csv_file = CSV_Train,\n",
    "                 y_var = 'root',\n",
    "                 to_fit=True,\n",
    "                 batch_size=2,\n",
    "                 dim = (90,160),\n",
    "                 channels = 1,\n",
    "                 vertical_flip = 0,\n",
    "                 horizontal_flip = 0,\n",
    "                 rotate = (.50,90), #PRob, max roatioan\n",
    "                 shear = (0,0), # prob, max_shear\n",
    "                 shuffle=False)\n"
   ]
  },
  {
   "cell_type": "code",
   "execution_count": 189,
   "metadata": {},
   "outputs": [
    {
     "data": {
      "text/plain": [
       "(90, 160)"
      ]
     },
     "execution_count": 189,
     "metadata": {},
     "output_type": "execute_result"
    },
    {
     "data": {
      "image/png": "[encoded data removed]",
      "text/plain": [
       "<Figure size 432x288 with 1 Axes>"
      ]
     },
     "metadata": {
      "needs_background": "light"
     },
     "output_type": "display_data"
    }
   ],
   "source": [
    "ZZ = Gen_Train2[1]\n",
    "plt.imshow(ZZ[0][1].reshape((90,160)))\n",
    "ZZ[0][1].shape\n",
    "#ZZ_1 = ZZ[0].reshape(ZZ[0].shape[0],ZZ[0].shape[1], ZZ[0].shape[2],1)"
   ]
  },
  {
   "cell_type": "markdown",
   "metadata": {},
   "source": [
    "## Reading in CSV Data and creating Generators"
   ]
  },
  {
   "cell_type": "code",
   "execution_count": 3,
   "metadata": {},
   "outputs": [
    {
     "name": "stdout",
     "output_type": "stream",
     "text": [
      "Shape of Train is: 136369 x 7 \n",
      "Shape of Val is 34268 x 7\n"
     ]
    }
   ],
   "source": [
    "CSV = pd.read_csv('../Data/train_extra.csv')\n",
    "\n",
    "#removing Test\n",
    "CSV = CSV[CSV.Train == 0]\n",
    "\n",
    "# spling into train and validate\n",
    "Idx_Split = np.random.uniform(size = CSV.shape[0])\n",
    "CSV_Val = CSV[Idx_Split <= 0.2]\n",
    "CSV_Train = CSV[Idx_Split > 0.2]\n",
    "\n",
    "print(\"Shape of Train is: {} x {} \\nShape of Val is {} x {}\".format(CSV_Train.shape[0], \n",
    "                                                                    CSV_Train.shape[1],\n",
    "                                                                    CSV_Val.shape[0], \n",
    "                                                                    CSV_Val.shape[1]))\n"
   ]
  },
  {
   "cell_type": "code",
   "execution_count": 4,
   "metadata": {},
   "outputs": [
    {
     "data": {
      "text/html": [
       "<div>\n",
       "<style scoped>\n",
       "    .dataframe tbody tr th:only-of-type {\n",
       "        vertical-align: middle;\n",
       "    }\n",
       "\n",
       "    .dataframe tbody tr th {\n",
       "        vertical-align: top;\n",
       "    }\n",
       "\n",
       "    .dataframe thead th {\n",
       "        text-align: right;\n",
       "    }\n",
       "</style>\n",
       "<table border=\"1\" class=\"dataframe\">\n",
       "  <thead>\n",
       "    <tr style=\"text-align: right;\">\n",
       "      <th></th>\n",
       "      <th>image_id</th>\n",
       "      <th>grapheme_root</th>\n",
       "      <th>vowel_diacritic</th>\n",
       "      <th>consonant_diacritic</th>\n",
       "      <th>grapheme</th>\n",
       "      <th>Train</th>\n",
       "      <th>Image_Dir</th>\n",
       "    </tr>\n",
       "  </thead>\n",
       "  <tbody>\n",
       "    <tr>\n",
       "      <td>0</td>\n",
       "      <td>Train_0</td>\n",
       "      <td>15</td>\n",
       "      <td>9</td>\n",
       "      <td>5</td>\n",
       "      <td>ক্ট্রো</td>\n",
       "      <td>0</td>\n",
       "      <td>../Data/Train/Train_0.jpg</td>\n",
       "    </tr>\n",
       "    <tr>\n",
       "      <td>1</td>\n",
       "      <td>Train_1</td>\n",
       "      <td>159</td>\n",
       "      <td>0</td>\n",
       "      <td>0</td>\n",
       "      <td>হ</td>\n",
       "      <td>0</td>\n",
       "      <td>../Data/Train/Train_1.jpg</td>\n",
       "    </tr>\n",
       "    <tr>\n",
       "      <td>2</td>\n",
       "      <td>Train_2</td>\n",
       "      <td>22</td>\n",
       "      <td>3</td>\n",
       "      <td>5</td>\n",
       "      <td>খ্রী</td>\n",
       "      <td>0</td>\n",
       "      <td>../Data/Train/Train_2.jpg</td>\n",
       "    </tr>\n",
       "    <tr>\n",
       "      <td>4</td>\n",
       "      <td>Train_4</td>\n",
       "      <td>71</td>\n",
       "      <td>9</td>\n",
       "      <td>5</td>\n",
       "      <td>থ্রো</td>\n",
       "      <td>0</td>\n",
       "      <td>../Data/Train/Train_4.jpg</td>\n",
       "    </tr>\n",
       "    <tr>\n",
       "      <td>7</td>\n",
       "      <td>Train_7</td>\n",
       "      <td>139</td>\n",
       "      <td>3</td>\n",
       "      <td>0</td>\n",
       "      <td>ষী</td>\n",
       "      <td>0</td>\n",
       "      <td>../Data/Train/Train_7.jpg</td>\n",
       "    </tr>\n",
       "  </tbody>\n",
       "</table>\n",
       "</div>"
      ],
      "text/plain": [
       "  image_id  grapheme_root  vowel_diacritic  consonant_diacritic grapheme  \\\n",
       "0  Train_0             15                9                    5   ক্ট্রো   \n",
       "1  Train_1            159                0                    0        হ   \n",
       "2  Train_2             22                3                    5     খ্রী   \n",
       "4  Train_4             71                9                    5     থ্রো   \n",
       "7  Train_7            139                3                    0       ষী   \n",
       "\n",
       "   Train                  Image_Dir  \n",
       "0      0  ../Data/Train/Train_0.jpg  \n",
       "1      0  ../Data/Train/Train_1.jpg  \n",
       "2      0  ../Data/Train/Train_2.jpg  \n",
       "4      0  ../Data/Train/Train_4.jpg  \n",
       "7      0  ../Data/Train/Train_7.jpg  "
      ]
     },
     "execution_count": 4,
     "metadata": {},
     "output_type": "execute_result"
    }
   ],
   "source": [
    "CSV.head()"
   ]
  },
  {
   "cell_type": "code",
   "execution_count": 165,
   "metadata": {},
   "outputs": [
    {
     "name": "stdout",
     "output_type": "stream",
     "text": [
      "Number of Encodings is 168\n",
      "Number of Encodings is 168\n",
      "Shape of target is 2 , number of batches per epoch is 1067 x 1064\n"
     ]
    }
   ],
   "source": [
    "Gen_Train = DataGenerator(\n",
    "                csv_file = CSV_Train,\n",
    "                 y_var = 'root',\n",
    "                 to_fit=True,\n",
    "                 batch_size=128,\n",
    "                 dim = (90,160),\n",
    "                 channels = 1,\n",
    "                 vertical_flip = 0,\n",
    "                 horizontal_flip = 0,\n",
    "                 rotate = (.50,90), #PRob, max roatioan\n",
    "                 shear = (0,0), # prob, max_shear\n",
    "                 shuffle=True)\n",
    "\n",
    "Gen_Val = DataGenerator(\n",
    "                csv_file = CSV_Val,\n",
    "                 y_var = 'root',\n",
    "                 to_fit=True,\n",
    "                 batch_size=32,\n",
    "                 dim = (90,160),\n",
    "                 channels = 1,\n",
    "                 vertical_flip = 0,\n",
    "                 horizontal_flip = 0,\n",
    "                 rotate = (0,0), #Prob, max roatioan\n",
    "                 shear = (0,0), # prob, max_shear\n",
    "                 shuffle=True)\n",
    "\n",
    "\n",
    "print(\"Shape of target is {} , number of batches per epoch is {} x {}\".format(len(np.unique(Gen_Train.y)),\n",
    "                                                                                 len(Gen_Train),\n",
    "                                                                                 len(Gen_Val)))"
   ]
  },
  {
   "cell_type": "markdown",
   "metadata": {},
   "source": [
    "## Loading Model"
   ]
  },
  {
   "cell_type": "code",
   "execution_count": 69,
   "metadata": {},
   "outputs": [],
   "source": [
    "def build_MNV2(input_shape,\n",
    "               alpha = 1,\n",
    "               weights = None,\n",
    "               dropout_per = 0.2,\n",
    "               target_size = 168,\n",
    "              learning_rate = 0.0002):\n",
    "    mobilenetV2 = MobileNetV2(\n",
    "        input_shape = input_shape,\n",
    "        alpha = alpha,\n",
    "        weights=weights,\n",
    "        include_top=False\n",
    "    )\n",
    "    #Making all layers in MobilenetV2 trainable!\n",
    "    for layer in mobilenetV2.layers:\n",
    "        layer.trainable = True\n",
    "        \n",
    "    model = Sequential()\n",
    "    model.add(mobilenetV2)\n",
    "    model.add(layers.GlobalAveragePooling2D())\n",
    "    model.add(layers.Dropout(dropout_per))\n",
    "    model.add(layers.Dense(target_size, activation='softmax'))\n",
    "    \n",
    "    model.compile(\n",
    "        loss='categorical_crossentropy',\n",
    "        optimizer=optimizers.Adam(lr=learning_rate),\n",
    "        #optimizer = optimizers.RMSprop(learning_rate = learning_rate )    ,\n",
    "        metrics=['accuracy']\n",
    "        )\n",
    "  \n",
    "    return model\n",
    "\n",
    "\n",
    "def build_minst(input_shape,\n",
    "                dropout_per,\n",
    "               target_size,\n",
    "               learning_rate = 0.0002):\n",
    "    \n",
    "    mnst_model = Sequential([\n",
    "    # This is the first convolution\n",
    "    layers.Conv2D(16, (3,3), activation='relu', input_shape=input_shape),\n",
    "    layers.MaxPooling2D(2, 2),\n",
    "    # The second convolution\n",
    "    layers.Conv2D(32, (3,3), activation='relu'),\n",
    "    layers.MaxPooling2D(2,2),\n",
    "    # The third convolution\n",
    "    layers.Conv2D(64, (3,3), activation='relu'),\n",
    "    layers.MaxPooling2D(2,2),\n",
    "    # Flatten the results to feed into a DNN\n",
    "    layers.Flatten(),\n",
    "    # 512 neuron hidden layer\n",
    "    layers.Dense(128, activation='relu'),\n",
    "    # drop out layer\n",
    "    layers.Dropout(dropout_per),\n",
    "    layers.Dense(target_size, activation='softmax')\n",
    "    ])\n",
    "\n",
    "    mnst_model.compile(\n",
    "        loss='categorical_crossentropy',\n",
    "        optimizer=optimizers.Adam(lr=learning_rate),\n",
    "        #optimizer = optimizers.RMSprop(learning_rate = learning_rate )    ,\n",
    "        metrics=['accuracy']\n",
    "        )\n",
    "    return mnst_model\n",
    "    "
   ]
  },
  {
   "cell_type": "code",
   "execution_count": 8,
   "metadata": {},
   "outputs": [
    {
     "data": {
      "text/plain": [
       "tensorflow.python.keras.engine.sequential.Sequential"
      ]
     },
     "execution_count": 8,
     "metadata": {},
     "output_type": "execute_result"
    }
   ],
   "source": [
    "model = build_MNV2(input_shape = (90,160,1))\n",
    "type(model)"
   ]
  },
  {
   "cell_type": "code",
   "execution_count": 12,
   "metadata": {},
   "outputs": [
    {
     "name": "stdout",
     "output_type": "stream",
     "text": [
      "Epoch 1/10\n"
     ]
    },
    {
     "name": "stderr",
     "output_type": "stream",
     "text": [
      "WARNING: Logging before flag parsing goes to stderr.\n",
      "W0130 13:06:05.271191 140040918865728 deprecation.py:323] From /usr/local/lib/python3.6/dist-packages/tensorflow_core/python/ops/math_grad.py:1394: where (from tensorflow.python.ops.array_ops) is deprecated and will be removed in a future version.\n",
      "Instructions for updating:\n",
      "Use tf.where in 2.0, which has the same broadcast rule as np.where\n"
     ]
    },
    {
     "name": "stdout",
     "output_type": "stream",
     "text": [
      "1068/1068 [==============================] - 844s 790ms/step - loss: 4.7391 - accuracy: 0.0265 - val_loss: 5.8342 - val_accuracy: 0.0282\n",
      "Epoch 2/10\n",
      "1068/1068 [==============================] - 844s 791ms/step - loss: 4.7051 - accuracy: 0.0274 - val_loss: 5.2735 - val_accuracy: 0.0278\n",
      "Epoch 3/10\n",
      "1068/1068 [==============================] - 843s 789ms/step - loss: 4.7014 - accuracy: 0.0279 - val_loss: 4.8950 - val_accuracy: 0.0278\n",
      "Epoch 4/10\n",
      "1068/1068 [==============================] - 844s 790ms/step - loss: 4.7009 - accuracy: 0.0280 - val_loss: 4.7566 - val_accuracy: 0.0281\n",
      "Epoch 5/10\n",
      "1068/1068 [==============================] - 843s 790ms/step - loss: 4.6985 - accuracy: 0.0278 - val_loss: 4.7139 - val_accuracy: 0.0282\n",
      "Epoch 6/10\n",
      "1068/1068 [==============================] - 845s 791ms/step - loss: 4.6975 - accuracy: 0.0276 - val_loss: 4.7982 - val_accuracy: 0.0280\n",
      "Epoch 7/10\n",
      "1068/1068 [==============================] - 843s 789ms/step - loss: 4.6981 - accuracy: 0.0276 - val_loss: 4.6934 - val_accuracy: 0.0265\n",
      "Epoch 8/10\n",
      "1068/1068 [==============================] - 844s 791ms/step - loss: 4.6987 - accuracy: 0.0276 - val_loss: 5.0000 - val_accuracy: 0.0282\n",
      "Epoch 9/10\n",
      "1068/1068 [==============================] - 845s 791ms/step - loss: 4.6993 - accuracy: 0.0280 - val_loss: 4.7002 - val_accuracy: 0.0274\n",
      "Epoch 10/10\n",
      "1068/1068 [==============================] - 843s 790ms/step - loss: 4.6967 - accuracy: 0.0277 - val_loss: 4.6936 - val_accuracy: 0.0293\n"
     ]
    }
   ],
   "source": [
    "model = build_MNV2(input_shape = (90,160,1), adam_learning_rate = 0.002)\n",
    "model = compile_model(model, 0.002)\n",
    "\n",
    "history = model.fit_generator(\n",
    "    Gen_Train,\n",
    "    epochs=10,\n",
    "    verbose=1,\n",
    "    validation_data = Gen_Val,\n",
    ")"
   ]
  },
  {
   "cell_type": "code",
   "execution_count": 166,
   "metadata": {},
   "outputs": [
    {
     "name": "stdout",
     "output_type": "stream",
     "text": [
      "Model: \"sequential_18\"\n",
      "_________________________________________________________________\n",
      "Layer (type)                 Output Shape              Param #   \n",
      "=================================================================\n",
      "conv2d_45 (Conv2D)           (None, 88, 158, 16)       160       \n",
      "_________________________________________________________________\n",
      "max_pooling2d_45 (MaxPooling (None, 44, 79, 16)        0         \n",
      "_________________________________________________________________\n",
      "conv2d_46 (Conv2D)           (None, 42, 77, 32)        4640      \n",
      "_________________________________________________________________\n",
      "max_pooling2d_46 (MaxPooling (None, 21, 38, 32)        0         \n",
      "_________________________________________________________________\n",
      "flatten_15 (Flatten)         (None, 25536)             0         \n",
      "_________________________________________________________________\n",
      "dense_33 (Dense)             (None, 128)               3268736   \n",
      "_________________________________________________________________\n",
      "dropout_14 (Dropout)         (None, 128)               0         \n",
      "_________________________________________________________________\n",
      "dense_34 (Dense)             (None, 168)               21672     \n",
      "=================================================================\n",
      "Total params: 3,295,208\n",
      "Trainable params: 3,295,208\n",
      "Non-trainable params: 0\n",
      "_________________________________________________________________\n"
     ]
    }
   ],
   "source": [
    "model2 = build_minst(input_shape = (90,160,1), dropout_per = 0.2, target_size = 168)\n",
    "model2 = compile_model(model2, 0.2)\n",
    "model2.summary()"
   ]
  },
  {
   "cell_type": "code",
   "execution_count": 167,
   "metadata": {},
   "outputs": [
    {
     "name": "stdout",
     "output_type": "stream",
     "text": [
      "Epoch 1/10\n"
     ]
    },
    {
     "ename": "ValueError",
     "evalue": "Error when checking input: expected conv2d_45_input to have 4 dimensions, but got array with shape (128, 90, 160)",
     "output_type": "error",
     "traceback": [
      "\u001b[0;31m---------------------------------------------------------------------------\u001b[0m",
      "\u001b[0;31mValueError\u001b[0m                                Traceback (most recent call last)",
      "\u001b[0;32m<ipython-input-167-a1f0befee4f4>\u001b[0m in \u001b[0;36m<module>\u001b[0;34m\u001b[0m\n\u001b[1;32m      3\u001b[0m     \u001b[0mepochs\u001b[0m\u001b[0;34m=\u001b[0m\u001b[0;36m10\u001b[0m\u001b[0;34m,\u001b[0m\u001b[0;34m\u001b[0m\u001b[0;34m\u001b[0m\u001b[0m\n\u001b[1;32m      4\u001b[0m     \u001b[0mverbose\u001b[0m\u001b[0;34m=\u001b[0m\u001b[0;36m1\u001b[0m\u001b[0;34m,\u001b[0m\u001b[0;34m\u001b[0m\u001b[0;34m\u001b[0m\u001b[0m\n\u001b[0;32m----> 5\u001b[0;31m     \u001b[0mvalidation_data\u001b[0m \u001b[0;34m=\u001b[0m \u001b[0mGen_Val\u001b[0m\u001b[0;34m\u001b[0m\u001b[0;34m\u001b[0m\u001b[0m\n\u001b[0m\u001b[1;32m      6\u001b[0m )\n",
      "\u001b[0;32m/usr/local/lib/python3.6/dist-packages/tensorflow_core/python/keras/engine/training.py\u001b[0m in \u001b[0;36mfit_generator\u001b[0;34m(self, generator, steps_per_epoch, epochs, verbose, callbacks, validation_data, validation_steps, validation_freq, class_weight, max_queue_size, workers, use_multiprocessing, shuffle, initial_epoch)\u001b[0m\n\u001b[1;32m   1301\u001b[0m         \u001b[0mshuffle\u001b[0m\u001b[0;34m=\u001b[0m\u001b[0mshuffle\u001b[0m\u001b[0;34m,\u001b[0m\u001b[0;34m\u001b[0m\u001b[0;34m\u001b[0m\u001b[0m\n\u001b[1;32m   1302\u001b[0m         \u001b[0minitial_epoch\u001b[0m\u001b[0;34m=\u001b[0m\u001b[0minitial_epoch\u001b[0m\u001b[0;34m,\u001b[0m\u001b[0;34m\u001b[0m\u001b[0;34m\u001b[0m\u001b[0m\n\u001b[0;32m-> 1303\u001b[0;31m         steps_name='steps_per_epoch')\n\u001b[0m\u001b[1;32m   1304\u001b[0m \u001b[0;34m\u001b[0m\u001b[0m\n\u001b[1;32m   1305\u001b[0m   def evaluate_generator(self,\n",
      "\u001b[0;32m/usr/local/lib/python3.6/dist-packages/tensorflow_core/python/keras/engine/training_generator.py\u001b[0m in \u001b[0;36mmodel_iteration\u001b[0;34m(model, data, steps_per_epoch, epochs, verbose, callbacks, validation_data, validation_steps, validation_freq, class_weight, max_queue_size, workers, use_multiprocessing, shuffle, initial_epoch, mode, batch_size, steps_name, **kwargs)\u001b[0m\n\u001b[1;32m    263\u001b[0m \u001b[0;34m\u001b[0m\u001b[0m\n\u001b[1;32m    264\u001b[0m       \u001b[0mis_deferred\u001b[0m \u001b[0;34m=\u001b[0m \u001b[0;32mnot\u001b[0m \u001b[0mmodel\u001b[0m\u001b[0;34m.\u001b[0m\u001b[0m_is_compiled\u001b[0m\u001b[0;34m\u001b[0m\u001b[0;34m\u001b[0m\u001b[0m\n\u001b[0;32m--> 265\u001b[0;31m       \u001b[0mbatch_outs\u001b[0m \u001b[0;34m=\u001b[0m \u001b[0mbatch_function\u001b[0m\u001b[0;34m(\u001b[0m\u001b[0;34m*\u001b[0m\u001b[0mbatch_data\u001b[0m\u001b[0;34m)\u001b[0m\u001b[0;34m\u001b[0m\u001b[0;34m\u001b[0m\u001b[0m\n\u001b[0m\u001b[1;32m    266\u001b[0m       \u001b[0;32mif\u001b[0m \u001b[0;32mnot\u001b[0m \u001b[0misinstance\u001b[0m\u001b[0;34m(\u001b[0m\u001b[0mbatch_outs\u001b[0m\u001b[0;34m,\u001b[0m \u001b[0mlist\u001b[0m\u001b[0;34m)\u001b[0m\u001b[0;34m:\u001b[0m\u001b[0;34m\u001b[0m\u001b[0;34m\u001b[0m\u001b[0m\n\u001b[1;32m    267\u001b[0m         \u001b[0mbatch_outs\u001b[0m \u001b[0;34m=\u001b[0m \u001b[0;34m[\u001b[0m\u001b[0mbatch_outs\u001b[0m\u001b[0;34m]\u001b[0m\u001b[0;34m\u001b[0m\u001b[0;34m\u001b[0m\u001b[0m\n",
      "\u001b[0;32m/usr/local/lib/python3.6/dist-packages/tensorflow_core/python/keras/engine/training.py\u001b[0m in \u001b[0;36mtrain_on_batch\u001b[0;34m(self, x, y, sample_weight, class_weight, reset_metrics)\u001b[0m\n\u001b[1;32m    977\u001b[0m       outputs = training_v2_utils.train_on_batch(\n\u001b[1;32m    978\u001b[0m           \u001b[0mself\u001b[0m\u001b[0;34m,\u001b[0m \u001b[0mx\u001b[0m\u001b[0;34m,\u001b[0m \u001b[0my\u001b[0m\u001b[0;34m=\u001b[0m\u001b[0my\u001b[0m\u001b[0;34m,\u001b[0m \u001b[0msample_weight\u001b[0m\u001b[0;34m=\u001b[0m\u001b[0msample_weight\u001b[0m\u001b[0;34m,\u001b[0m\u001b[0;34m\u001b[0m\u001b[0;34m\u001b[0m\u001b[0m\n\u001b[0;32m--> 979\u001b[0;31m           class_weight=class_weight, reset_metrics=reset_metrics)\n\u001b[0m\u001b[1;32m    980\u001b[0m       outputs = (outputs['total_loss'] + outputs['output_losses'] +\n\u001b[1;32m    981\u001b[0m                  outputs['metrics'])\n",
      "\u001b[0;32m/usr/local/lib/python3.6/dist-packages/tensorflow_core/python/keras/engine/training_v2_utils.py\u001b[0m in \u001b[0;36mtrain_on_batch\u001b[0;34m(model, x, y, sample_weight, class_weight, reset_metrics)\u001b[0m\n\u001b[1;32m    251\u001b[0m   x, y, sample_weights = model._standardize_user_data(\n\u001b[1;32m    252\u001b[0m       \u001b[0mx\u001b[0m\u001b[0;34m,\u001b[0m \u001b[0my\u001b[0m\u001b[0;34m,\u001b[0m \u001b[0msample_weight\u001b[0m\u001b[0;34m=\u001b[0m\u001b[0msample_weight\u001b[0m\u001b[0;34m,\u001b[0m \u001b[0mclass_weight\u001b[0m\u001b[0;34m=\u001b[0m\u001b[0mclass_weight\u001b[0m\u001b[0;34m,\u001b[0m\u001b[0;34m\u001b[0m\u001b[0;34m\u001b[0m\u001b[0m\n\u001b[0;32m--> 253\u001b[0;31m       extract_tensors_from_dataset=True)\n\u001b[0m\u001b[1;32m    254\u001b[0m   \u001b[0mbatch_size\u001b[0m \u001b[0;34m=\u001b[0m \u001b[0marray_ops\u001b[0m\u001b[0;34m.\u001b[0m\u001b[0mshape\u001b[0m\u001b[0;34m(\u001b[0m\u001b[0mnest\u001b[0m\u001b[0;34m.\u001b[0m\u001b[0mflatten\u001b[0m\u001b[0;34m(\u001b[0m\u001b[0mx\u001b[0m\u001b[0;34m,\u001b[0m \u001b[0mexpand_composites\u001b[0m\u001b[0;34m=\u001b[0m\u001b[0;32mTrue\u001b[0m\u001b[0;34m)\u001b[0m\u001b[0;34m[\u001b[0m\u001b[0;36m0\u001b[0m\u001b[0;34m]\u001b[0m\u001b[0;34m)\u001b[0m\u001b[0;34m[\u001b[0m\u001b[0;36m0\u001b[0m\u001b[0;34m]\u001b[0m\u001b[0;34m\u001b[0m\u001b[0;34m\u001b[0m\u001b[0m\n\u001b[1;32m    255\u001b[0m   \u001b[0;31m# If `model._distribution_strategy` is True, then we are in a replica context\u001b[0m\u001b[0;34m\u001b[0m\u001b[0;34m\u001b[0m\u001b[0;34m\u001b[0m\u001b[0m\n",
      "\u001b[0;32m/usr/local/lib/python3.6/dist-packages/tensorflow_core/python/keras/engine/training.py\u001b[0m in \u001b[0;36m_standardize_user_data\u001b[0;34m(self, x, y, sample_weight, class_weight, batch_size, check_steps, steps_name, steps, validation_split, shuffle, extract_tensors_from_dataset)\u001b[0m\n\u001b[1;32m   2435\u001b[0m           \u001b[0mfeed_input_shapes\u001b[0m\u001b[0;34m,\u001b[0m\u001b[0;34m\u001b[0m\u001b[0;34m\u001b[0m\u001b[0m\n\u001b[1;32m   2436\u001b[0m           \u001b[0mcheck_batch_axis\u001b[0m\u001b[0;34m=\u001b[0m\u001b[0;32mFalse\u001b[0m\u001b[0;34m,\u001b[0m  \u001b[0;31m# Don't enforce the batch size.\u001b[0m\u001b[0;34m\u001b[0m\u001b[0;34m\u001b[0m\u001b[0m\n\u001b[0;32m-> 2437\u001b[0;31m           exception_prefix='input')\n\u001b[0m\u001b[1;32m   2438\u001b[0m \u001b[0;34m\u001b[0m\u001b[0m\n\u001b[1;32m   2439\u001b[0m     \u001b[0;31m# Get typespecs for the input data and sanitize it if necessary.\u001b[0m\u001b[0;34m\u001b[0m\u001b[0;34m\u001b[0m\u001b[0;34m\u001b[0m\u001b[0m\n",
      "\u001b[0;32m/usr/local/lib/python3.6/dist-packages/tensorflow_core/python/keras/engine/training_utils.py\u001b[0m in \u001b[0;36mstandardize_input_data\u001b[0;34m(data, names, shapes, check_batch_axis, exception_prefix)\u001b[0m\n\u001b[1;32m    562\u001b[0m                            \u001b[0;34m': expected '\u001b[0m \u001b[0;34m+\u001b[0m \u001b[0mnames\u001b[0m\u001b[0;34m[\u001b[0m\u001b[0mi\u001b[0m\u001b[0;34m]\u001b[0m \u001b[0;34m+\u001b[0m \u001b[0;34m' to have '\u001b[0m \u001b[0;34m+\u001b[0m\u001b[0;34m\u001b[0m\u001b[0;34m\u001b[0m\u001b[0m\n\u001b[1;32m    563\u001b[0m                            \u001b[0mstr\u001b[0m\u001b[0;34m(\u001b[0m\u001b[0mlen\u001b[0m\u001b[0;34m(\u001b[0m\u001b[0mshape\u001b[0m\u001b[0;34m)\u001b[0m\u001b[0;34m)\u001b[0m \u001b[0;34m+\u001b[0m \u001b[0;34m' dimensions, but got array '\u001b[0m\u001b[0;34m\u001b[0m\u001b[0;34m\u001b[0m\u001b[0m\n\u001b[0;32m--> 564\u001b[0;31m                            'with shape ' + str(data_shape))\n\u001b[0m\u001b[1;32m    565\u001b[0m         \u001b[0;32mif\u001b[0m \u001b[0;32mnot\u001b[0m \u001b[0mcheck_batch_axis\u001b[0m\u001b[0;34m:\u001b[0m\u001b[0;34m\u001b[0m\u001b[0;34m\u001b[0m\u001b[0m\n\u001b[1;32m    566\u001b[0m           \u001b[0mdata_shape\u001b[0m \u001b[0;34m=\u001b[0m \u001b[0mdata_shape\u001b[0m\u001b[0;34m[\u001b[0m\u001b[0;36m1\u001b[0m\u001b[0;34m:\u001b[0m\u001b[0;34m]\u001b[0m\u001b[0;34m\u001b[0m\u001b[0;34m\u001b[0m\u001b[0m\n",
      "\u001b[0;31mValueError\u001b[0m: Error when checking input: expected conv2d_45_input to have 4 dimensions, but got array with shape (128, 90, 160)"
     ]
    }
   ],
   "source": [
    "\n",
    "\n",
    "history2 = model2.fit_generator(\n",
    "    Gen_Train,\n",
    "    epochs=10,\n",
    "    verbose=1,\n",
    "    validation_data = Gen_Val\n",
    ")"
   ]
  },
  {
   "cell_type": "code",
   "execution_count": 52,
   "metadata": {},
   "outputs": [
    {
     "ename": "NameError",
     "evalue": "name 'history2' is not defined",
     "output_type": "error",
     "traceback": [
      "\u001b[0;31m---------------------------------------------------------------------------\u001b[0m",
      "\u001b[0;31mNameError\u001b[0m                                 Traceback (most recent call last)",
      "\u001b[0;32m<ipython-input-52-07605f05b808>\u001b[0m in \u001b[0;36m<module>\u001b[0;34m\u001b[0m\n\u001b[1;32m     13\u001b[0m     \u001b[0mplt\u001b[0m\u001b[0;34m.\u001b[0m\u001b[0mshow\u001b[0m\u001b[0;34m(\u001b[0m\u001b[0;34m)\u001b[0m\u001b[0;34m\u001b[0m\u001b[0;34m\u001b[0m\u001b[0m\n\u001b[1;32m     14\u001b[0m \u001b[0;34m\u001b[0m\u001b[0m\n\u001b[0;32m---> 15\u001b[0;31m \u001b[0mPlot_Val_Test\u001b[0m\u001b[0;34m(\u001b[0m\u001b[0mhistory2\u001b[0m\u001b[0;34m)\u001b[0m\u001b[0;34m\u001b[0m\u001b[0;34m\u001b[0m\u001b[0m\n\u001b[0m",
      "\u001b[0;31mNameError\u001b[0m: name 'history2' is not defined"
     ]
    }
   ],
   "source": [
    "def Plot_Val_Test(Model_hist):\n",
    "    acc = Model_hist.history['accuracy']\n",
    "    val_acc = Model_hist.history['val_accuracy']\n",
    "    loss = Model_hist.history['loss']\n",
    "    val_loss = Model_hist.history['val_loss']\n",
    "    epochs = range(len(acc))\n",
    "\n",
    "    plt.plot(epochs, acc, 'r', label='Training accuracy')\n",
    "    plt.plot(epochs, val_acc, 'b', label='Validation accuracy')\n",
    "    plt.title('Training and validation accuracy')\n",
    "    plt.legend(loc=0)\n",
    "    plt.figure()\n",
    "    plt.show()\n",
    "\n",
    "Plot_Val_Test(history)\n"
   ]
  },
  {
   "cell_type": "code",
   "execution_count": 263,
   "metadata": {},
   "outputs": [
    {
     "ename": "IndentationError",
     "evalue": "unindent does not match any outer indentation level (<tokenize>, line 53)",
     "output_type": "error",
     "traceback": [
      "\u001b[0;36m  File \u001b[0;32m\"<tokenize>\"\u001b[0;36m, line \u001b[0;32m53\u001b[0m\n\u001b[0;31m    plt.imshow(display_grid, aspect='auto', cmap='viridis')\u001b[0m\n\u001b[0m    ^\u001b[0m\n\u001b[0;31mIndentationError\u001b[0m\u001b[0;31m:\u001b[0m unindent does not match any outer indentation level\n"
     ]
    }
   ],
   "source": [
    "\n",
    "import random\n",
    "from tensorflow.keras.preprocessing.image import img_to_array\n",
    "from tensorflow.keras.models import Model\n",
    "# Let's define a new Model that will take an image as input, and will output\n",
    "# intermediate representations for all layers in the previous model after\n",
    "# the first.\n",
    "successive_outputs = [layer.output for layer in model.layers[1:]]\n",
    "#visualization_model = Model(img_input, successive_outputs)\n",
    "visualization_model = Model(inputs = model.input, outputs = successive_outputs)\n",
    "# Let's prepare a random input image from the training set.\n",
    "#horse_img_files = [os.path.join(train_horse_dir, f) for f in train_horse_names]\n",
    "#human_img_files = [os.path.join(train_human_dir, f) for f in train_human_names]\n",
    "#img_path = random.choice(horse_img_files + human_img_files)\n",
    "\n",
    "img = cv2.imread('../Data/Train/Train_1.jpg', cv2.IMREAD_GRAYSCALE)  # this is a PIL image\n",
    "x = img.reshape(1,90,160,1) # Numpy array with shape (150, 150, 3)\n",
    "x = x / 255\n",
    "\n",
    "# Let's run our image through our network, thus obtaining all\n",
    "# intermediate representations for this image.\n",
    "successive_feature_maps = visualization_model.predict(x)\n",
    "\n",
    "# These are the names of the layers, so can have them as part of our plot\n",
    "layer_names = [layer.name for layer in model.layers]\n",
    "\n",
    "# Now let's display our representations\n",
    "for layer_name, feature_map in zip(layer_names, successive_feature_maps):\n",
    "    print(feature_map.shape)\n",
    "    if len(feature_map.shape) > 0 :\n",
    "        print('nice')\n",
    "        # Just do this for the conv / maxpool layers, not the fully-connected layers\n",
    "        n_features = feature_map.shape[-1]  # number of features in feature map\n",
    "        # The feature map has shape (1, size, size, n_features)\n",
    "        size = feature_map.shape[1]\n",
    "        # We will tile our images in this matrix\n",
    "        display_grid = np.zeros((size, size * n_features))\n",
    "        for i in range(n_features):\n",
    "            # Postprocess the feature to make it visually palatable\n",
    "            #x = feature_map[0, :, :, i]\n",
    "            x = feature_map[0, i]\n",
    "            x -= x.mean()\n",
    "            x /= x.std()\n",
    "            x *= 64\n",
    "            x += 128\n",
    "            x = np.clip(x, 0, 255).astype('uint8')\n",
    "            # We'll tile each filter into this big horizontal grid\n",
    "        display_grid[:, i * size : (i + 1) * size] = x\n",
    "        # Display the grid\n",
    "        scale = 20. / n_features\n",
    "        plt.figure(figsize=(scale * n_features, scale))\n",
    "        plt.title(layer_name)\n",
    "        plt.grid(False)\n",
    "     plt.imshow(display_grid, aspect='auto', cmap='viridis')"
   ]
  },
  {
   "cell_type": "code",
   "execution_count": 8,
   "metadata": {},
   "outputs": [],
   "source": [
    "from tensorflow.keras.datasets import fashion_mnist\n",
    "\n",
    "mnist = fashion_mnist"
   ]
  },
  {
   "cell_type": "code",
   "execution_count": 9,
   "metadata": {},
   "outputs": [],
   "source": [
    "TT = mnist.load_data()"
   ]
  },
  {
   "cell_type": "code",
   "execution_count": 206,
   "metadata": {},
   "outputs": [],
   "source": [
    "DIR = '/home/beltain/Data/fmnist'"
   ]
  },
  {
   "cell_type": "code",
   "execution_count": 275,
   "metadata": {},
   "outputs": [],
   "source": [
    "(training_images, training_labels), (test_images, test_labels) = mnist.load_data()"
   ]
  },
  {
   "cell_type": "code",
   "execution_count": 292,
   "metadata": {},
   "outputs": [
    {
     "data": {
      "text/plain": [
       "(60000, 28, 28, 1)"
      ]
     },
     "execution_count": 292,
     "metadata": {},
     "output_type": "execute_result"
    }
   ],
   "source": [
    "np.expand_dims(training_images,3).shape"
   ]
  },
  {
   "cell_type": "code",
   "execution_count": 215,
   "metadata": {},
   "outputs": [],
   "source": [
    "TEST_LIST = [None] * 10000\n",
    "for i in range(10000):\n",
    "    SAVE_DIR = DIR + '/img_Test' + str(i) + '.jpg'\n",
    "    cv2.imwrite(SAVE_DIR, TT[1][0][i])\n",
    "    TEST_LIST[i] = SAVE_DIR"
   ]
  },
  {
   "cell_type": "code",
   "execution_count": 232,
   "metadata": {},
   "outputs": [],
   "source": [
    "train_df  = pd.DataFrame(list(zip(SAVE_LIST, TT[0][1])), columns = ['Image_Dir','y'] )\n",
    "train_df['Test'] = 0\n",
    "test_df = pd.DataFrame(list(zip(TEST_LIST, TT[1][1])), columns = ['Image_Dir','y'] )\n",
    "test_df['Test'] = 1"
   ]
  },
  {
   "cell_type": "code",
   "execution_count": 233,
   "metadata": {},
   "outputs": [
    {
     "data": {
      "text/html": [
       "<div>\n",
       "<style scoped>\n",
       "    .dataframe tbody tr th:only-of-type {\n",
       "        vertical-align: middle;\n",
       "    }\n",
       "\n",
       "    .dataframe tbody tr th {\n",
       "        vertical-align: top;\n",
       "    }\n",
       "\n",
       "    .dataframe thead th {\n",
       "        text-align: right;\n",
       "    }\n",
       "</style>\n",
       "<table border=\"1\" class=\"dataframe\">\n",
       "  <thead>\n",
       "    <tr style=\"text-align: right;\">\n",
       "      <th></th>\n",
       "      <th>Image_Dir</th>\n",
       "      <th>y</th>\n",
       "      <th>Test</th>\n",
       "    </tr>\n",
       "  </thead>\n",
       "  <tbody>\n",
       "    <tr>\n",
       "      <td>0</td>\n",
       "      <td>/home/beltain/Data/fmnist/img_0.jpg</td>\n",
       "      <td>9</td>\n",
       "      <td>0</td>\n",
       "    </tr>\n",
       "    <tr>\n",
       "      <td>1</td>\n",
       "      <td>/home/beltain/Data/fmnist/img_1.jpg</td>\n",
       "      <td>0</td>\n",
       "      <td>0</td>\n",
       "    </tr>\n",
       "    <tr>\n",
       "      <td>2</td>\n",
       "      <td>/home/beltain/Data/fmnist/img_2.jpg</td>\n",
       "      <td>0</td>\n",
       "      <td>0</td>\n",
       "    </tr>\n",
       "    <tr>\n",
       "      <td>3</td>\n",
       "      <td>/home/beltain/Data/fmnist/img_3.jpg</td>\n",
       "      <td>3</td>\n",
       "      <td>0</td>\n",
       "    </tr>\n",
       "    <tr>\n",
       "      <td>4</td>\n",
       "      <td>/home/beltain/Data/fmnist/img_4.jpg</td>\n",
       "      <td>0</td>\n",
       "      <td>0</td>\n",
       "    </tr>\n",
       "  </tbody>\n",
       "</table>\n",
       "</div>"
      ],
      "text/plain": [
       "                             Image_Dir  y  Test\n",
       "0  /home/beltain/Data/fmnist/img_0.jpg  9     0\n",
       "1  /home/beltain/Data/fmnist/img_1.jpg  0     0\n",
       "2  /home/beltain/Data/fmnist/img_2.jpg  0     0\n",
       "3  /home/beltain/Data/fmnist/img_3.jpg  3     0\n",
       "4  /home/beltain/Data/fmnist/img_4.jpg  0     0"
      ]
     },
     "execution_count": 233,
     "metadata": {},
     "output_type": "execute_result"
    }
   ],
   "source": [
    "FINAL_df = pd.concat([train_df, test_df])\n",
    "FINAL_df.head()"
   ]
  },
  {
   "cell_type": "code",
   "execution_count": 234,
   "metadata": {},
   "outputs": [],
   "source": [
    "FINAL_df.to_csv('/home/beltain/Data/fmnist.csv', index = False)"
   ]
  },
  {
   "cell_type": "code",
   "execution_count": 57,
   "metadata": {},
   "outputs": [],
   "source": [
    "FINAL_df = pd.read_csv('/home/beltain/Data/fmnist.csv')"
   ]
  },
  {
   "cell_type": "code",
   "execution_count": 70,
   "metadata": {},
   "outputs": [
    {
     "name": "stdout",
     "output_type": "stream",
     "text": [
      "Number of Encodings is 10\n",
      "Number of Encodings is 10\n"
     ]
    }
   ],
   "source": [
    "Gen_Train_fm = DataGenerator(\n",
    "                csv_file = FINAL_df[FINAL_df.Test == 0],\n",
    "                 y_var = 'y',\n",
    "                 to_fit=True,\n",
    "                 batch_size=128,\n",
    "                 dim = (28,28),\n",
    "                 channels = 1,\n",
    "                 vertical_flip = 0.5,\n",
    "                 horizontal_flip = 0.5,\n",
    "                 rotate = (.10,90), #PRob, max roatioan\n",
    "                 shear = (0,0), # prob, max_shear\n",
    "                 shuffle=True)\n",
    "\n",
    "Gen_Val_fm = DataGenerator(\n",
    "                csv_file = FINAL_df[FINAL_df.Test == 1],\n",
    "                 y_var = 'y',\n",
    "                 to_fit=True,\n",
    "                 batch_size=32,\n",
    "                 dim = (28,28),\n",
    "                 channels = 1,\n",
    "                 vertical_flip = 0,\n",
    "                 horizontal_flip = 0,\n",
    "                 rotate = (0,0), #Prob, max roatioan\n",
    "                 shear = (0,0), # prob, max_shear\n",
    "                 shuffle=True)\n",
    "\n"
   ]
  },
  {
   "cell_type": "code",
   "execution_count": 71,
   "metadata": {},
   "outputs": [
    {
     "name": "stdout",
     "output_type": "stream",
     "text": [
      "Model: \"sequential_17\"\n",
      "_________________________________________________________________\n",
      "Layer (type)                 Output Shape              Param #   \n",
      "=================================================================\n",
      "conv2d_27 (Conv2D)           (None, 26, 26, 16)        160       \n",
      "_________________________________________________________________\n",
      "max_pooling2d_27 (MaxPooling (None, 13, 13, 16)        0         \n",
      "_________________________________________________________________\n",
      "conv2d_28 (Conv2D)           (None, 11, 11, 32)        4640      \n",
      "_________________________________________________________________\n",
      "max_pooling2d_28 (MaxPooling (None, 5, 5, 32)          0         \n",
      "_________________________________________________________________\n",
      "conv2d_29 (Conv2D)           (None, 3, 3, 64)          18496     \n",
      "_________________________________________________________________\n",
      "max_pooling2d_29 (MaxPooling (None, 1, 1, 64)          0         \n",
      "_________________________________________________________________\n",
      "flatten_16 (Flatten)         (None, 64)                0         \n",
      "_________________________________________________________________\n",
      "dense_32 (Dense)             (None, 128)               8320      \n",
      "_________________________________________________________________\n",
      "dropout_13 (Dropout)         (None, 128)               0         \n",
      "_________________________________________________________________\n",
      "dense_33 (Dense)             (None, 10)                1290      \n",
      "=================================================================\n",
      "Total params: 32,906\n",
      "Trainable params: 32,906\n",
      "Non-trainable params: 0\n",
      "_________________________________________________________________\n"
     ]
    }
   ],
   "source": [
    "model23 = build_minst(input_shape = (28,28,1), dropout_per =0.0, target_size = 10)\n",
    "\n",
    "model23.summary()"
   ]
  },
  {
   "cell_type": "code",
   "execution_count": 77,
   "metadata": {},
   "outputs": [
    {
     "data": {
      "text/plain": [
       "<matplotlib.image.AxesImage at 0x7f87552ac400>"
      ]
     },
     "execution_count": 77,
     "metadata": {},
     "output_type": "execute_result"
    },
    {
     "data": {
      "image/png": "[encoded data removed]",
      "text/plain": [
       "<Figure size 432x288 with 1 Axes>"
      ]
     },
     "metadata": {
      "needs_background": "light"
     },
     "output_type": "display_data"
    }
   ],
   "source": [
    "plt.imshow(Gen_Train_fm[0][0][1].reshape(28,28))"
   ]
  },
  {
   "cell_type": "code",
   "execution_count": null,
   "metadata": {},
   "outputs": [
    {
     "name": "stdout",
     "output_type": "stream",
     "text": [
      "Epoch 1/90\n",
      "468/468 [==============================] - 8s 18ms/step - loss: 0.5945 - accuracy: 0.7823 - val_loss: 0.5461 - val_accuracy: 0.8018\n",
      "Epoch 2/90\n",
      "468/468 [==============================] - 8s 18ms/step - loss: 0.5789 - accuracy: 0.7872 - val_loss: 0.5488 - val_accuracy: 0.7967\n",
      "Epoch 3/90\n",
      "468/468 [==============================] - 8s 18ms/step - loss: 0.5679 - accuracy: 0.7923 - val_loss: 0.5258 - val_accuracy: 0.8103\n",
      "Epoch 4/90\n",
      "468/468 [==============================] - 9s 18ms/step - loss: 0.5595 - accuracy: 0.7951 - val_loss: 0.5396 - val_accuracy: 0.8016\n",
      "Epoch 5/90\n",
      "468/468 [==============================] - 8s 18ms/step - loss: 0.5455 - accuracy: 0.7999 - val_loss: 0.5228 - val_accuracy: 0.8060\n",
      "Epoch 6/90\n",
      "468/468 [==============================] - 8s 18ms/step - loss: 0.5402 - accuracy: 0.8031 - val_loss: 0.5076 - val_accuracy: 0.8163\n",
      "Epoch 7/90\n",
      "468/468 [==============================] - 9s 18ms/step - loss: 0.5335 - accuracy: 0.8029 - val_loss: 0.5014 - val_accuracy: 0.8220\n",
      "Epoch 8/90\n",
      "468/468 [==============================] - 8s 18ms/step - loss: 0.5225 - accuracy: 0.8093 - val_loss: 0.4906 - val_accuracy: 0.8218\n",
      "Epoch 9/90\n",
      "468/468 [==============================] - 8s 18ms/step - loss: 0.5182 - accuracy: 0.8104 - val_loss: 0.4922 - val_accuracy: 0.8204\n",
      "Epoch 10/90\n",
      "468/468 [==============================] - 9s 18ms/step - loss: 0.5113 - accuracy: 0.8131 - val_loss: 0.4742 - val_accuracy: 0.8297\n",
      "Epoch 11/90\n",
      "468/468 [==============================] - 9s 18ms/step - loss: 0.5041 - accuracy: 0.8144 - val_loss: 0.4865 - val_accuracy: 0.8239\n",
      "Epoch 12/90\n",
      "468/468 [==============================] - 8s 18ms/step - loss: 0.4967 - accuracy: 0.8171 - val_loss: 0.4652 - val_accuracy: 0.8308\n",
      "Epoch 13/90\n",
      "468/468 [==============================] - 9s 18ms/step - loss: 0.4945 - accuracy: 0.8205 - val_loss: 0.4652 - val_accuracy: 0.8331\n",
      "Epoch 14/90\n",
      "468/468 [==============================] - 8s 18ms/step - loss: 0.4916 - accuracy: 0.8212 - val_loss: 0.4657 - val_accuracy: 0.8331\n",
      "Epoch 15/90\n",
      "468/468 [==============================] - 9s 18ms/step - loss: 0.4853 - accuracy: 0.8219 - val_loss: 0.4646 - val_accuracy: 0.8373\n",
      "Epoch 16/90\n",
      "468/468 [==============================] - 8s 18ms/step - loss: 0.4854 - accuracy: 0.8239 - val_loss: 0.4643 - val_accuracy: 0.8284\n",
      "Epoch 17/90\n",
      "468/468 [==============================] - 8s 18ms/step - loss: 0.4820 - accuracy: 0.8247 - val_loss: 0.4552 - val_accuracy: 0.8346\n",
      "Epoch 18/90\n",
      "468/468 [==============================] - 9s 19ms/step - loss: 0.4740 - accuracy: 0.8280 - val_loss: 0.4485 - val_accuracy: 0.8407\n",
      "Epoch 19/90\n",
      "468/468 [==============================] - 9s 18ms/step - loss: 0.4720 - accuracy: 0.8280 - val_loss: 0.4510 - val_accuracy: 0.8375\n",
      "Epoch 20/90\n",
      "468/468 [==============================] - 9s 18ms/step - loss: 0.4723 - accuracy: 0.8279 - val_loss: 0.4436 - val_accuracy: 0.8410\n",
      "Epoch 21/90\n",
      "468/468 [==============================] - 9s 18ms/step - loss: 0.4653 - accuracy: 0.8303 - val_loss: 0.4385 - val_accuracy: 0.8413\n",
      "Epoch 22/90\n",
      "468/468 [==============================] - 9s 18ms/step - loss: 0.4654 - accuracy: 0.8319 - val_loss: 0.4405 - val_accuracy: 0.8433\n",
      "Epoch 23/90\n",
      "468/468 [==============================] - 9s 19ms/step - loss: 0.4625 - accuracy: 0.8312 - val_loss: 0.4571 - val_accuracy: 0.8404\n",
      "Epoch 24/90\n",
      "468/468 [==============================] - 9s 18ms/step - loss: 0.4566 - accuracy: 0.8345 - val_loss: 0.4391 - val_accuracy: 0.8446\n",
      "Epoch 25/90\n",
      "468/468 [==============================] - 9s 18ms/step - loss: 0.4559 - accuracy: 0.8336 - val_loss: 0.4511 - val_accuracy: 0.8302\n",
      "Epoch 26/90\n",
      "468/468 [==============================] - 8s 18ms/step - loss: 0.4467 - accuracy: 0.8370 - val_loss: 0.4368 - val_accuracy: 0.8414\n",
      "Epoch 27/90\n",
      "468/468 [==============================] - 9s 18ms/step - loss: 0.4544 - accuracy: 0.8343 - val_loss: 0.4507 - val_accuracy: 0.8393\n",
      "Epoch 28/90\n",
      "468/468 [==============================] - 8s 18ms/step - loss: 0.4456 - accuracy: 0.8374 - val_loss: 0.4238 - val_accuracy: 0.8455\n",
      "Epoch 29/90\n",
      "468/468 [==============================] - 8s 18ms/step - loss: 0.4431 - accuracy: 0.8388 - val_loss: 0.4322 - val_accuracy: 0.8484\n",
      "Epoch 30/90\n",
      "468/468 [==============================] - 9s 18ms/step - loss: 0.4420 - accuracy: 0.8387 - val_loss: 0.4387 - val_accuracy: 0.8414\n",
      "Epoch 31/90\n",
      "468/468 [==============================] - 9s 18ms/step - loss: 0.4400 - accuracy: 0.8418 - val_loss: 0.4223 - val_accuracy: 0.8486\n",
      "Epoch 32/90\n",
      "468/468 [==============================] - 9s 18ms/step - loss: 0.4411 - accuracy: 0.8408 - val_loss: 0.4243 - val_accuracy: 0.8473\n",
      "Epoch 33/90\n",
      "468/468 [==============================] - 9s 19ms/step - loss: 0.4325 - accuracy: 0.8428 - val_loss: 0.4352 - val_accuracy: 0.8396\n",
      "Epoch 34/90\n",
      "468/468 [==============================] - 9s 18ms/step - loss: 0.4360 - accuracy: 0.8423 - val_loss: 0.4348 - val_accuracy: 0.8457\n",
      "Epoch 35/90\n",
      "468/468 [==============================] - 8s 18ms/step - loss: 0.4295 - accuracy: 0.8435 - val_loss: 0.4204 - val_accuracy: 0.8497\n",
      "Epoch 36/90\n",
      "468/468 [==============================] - 8s 18ms/step - loss: 0.4328 - accuracy: 0.8415 - val_loss: 0.4216 - val_accuracy: 0.8500\n",
      "Epoch 37/90\n",
      "468/468 [==============================] - 8s 18ms/step - loss: 0.4257 - accuracy: 0.8455 - val_loss: 0.4240 - val_accuracy: 0.8496\n",
      "Epoch 38/90\n",
      "468/468 [==============================] - 8s 18ms/step - loss: 0.4236 - accuracy: 0.8460 - val_loss: 0.4198 - val_accuracy: 0.8485\n",
      "Epoch 39/90\n",
      "468/468 [==============================] - 8s 18ms/step - loss: 0.4247 - accuracy: 0.8461 - val_loss: 0.4172 - val_accuracy: 0.8494\n",
      "Epoch 40/90\n",
      "468/468 [==============================] - 8s 18ms/step - loss: 0.4189 - accuracy: 0.8468 - val_loss: 0.4110 - val_accuracy: 0.8525\n",
      "Epoch 41/90\n",
      "468/468 [==============================] - 8s 18ms/step - loss: 0.4203 - accuracy: 0.8474 - val_loss: 0.4110 - val_accuracy: 0.8512\n",
      "Epoch 42/90\n",
      "468/468 [==============================] - 9s 18ms/step - loss: 0.4192 - accuracy: 0.8468 - val_loss: 0.4157 - val_accuracy: 0.8508\n",
      "Epoch 43/90\n",
      "468/468 [==============================] - 9s 18ms/step - loss: 0.4152 - accuracy: 0.8502 - val_loss: 0.4174 - val_accuracy: 0.8513\n",
      "Epoch 44/90\n",
      " 69/468 [===>..........................] - ETA: 5s - loss: 0.4241 - accuracy: 0.8427"
     ]
    }
   ],
   "source": [
    "history2 = model23.fit_generator(\n",
    "    Gen_Train_fm,\n",
    "    epochs=90,\n",
    "    verbose=1,\n",
    "     validation_data = Gen_Val_fm\n",
    ")"
   ]
  },
  {
   "cell_type": "code",
   "execution_count": 68,
   "metadata": {},
   "outputs": [
    {
     "name": "stdout",
     "output_type": "stream",
     "text": [
      "(1, 13, 13, 16)\n",
      "nice\n"
     ]
    },
    {
     "ename": "IndexError",
     "evalue": "index 13 is out of bounds for axis 1 with size 13",
     "output_type": "error",
     "traceback": [
      "\u001b[0;31m---------------------------------------------------------------------------\u001b[0m",
      "\u001b[0;31mIndexError\u001b[0m                                Traceback (most recent call last)",
      "\u001b[0;32m<ipython-input-68-6a7647bafd69>\u001b[0m in \u001b[0;36m<module>\u001b[0;34m\u001b[0m\n\u001b[1;32m     38\u001b[0m             \u001b[0;31m# Postprocess the feature to make it visually palatable\u001b[0m\u001b[0;34m\u001b[0m\u001b[0;34m\u001b[0m\u001b[0;34m\u001b[0m\u001b[0m\n\u001b[1;32m     39\u001b[0m             \u001b[0;31m#x = feature_map[0, :, :, i]\u001b[0m\u001b[0;34m\u001b[0m\u001b[0;34m\u001b[0m\u001b[0;34m\u001b[0m\u001b[0m\n\u001b[0;32m---> 40\u001b[0;31m             \u001b[0mx\u001b[0m \u001b[0;34m=\u001b[0m \u001b[0mfeature_map\u001b[0m\u001b[0;34m[\u001b[0m\u001b[0;36m0\u001b[0m\u001b[0;34m,\u001b[0m \u001b[0mi\u001b[0m\u001b[0;34m]\u001b[0m\u001b[0;34m\u001b[0m\u001b[0;34m\u001b[0m\u001b[0m\n\u001b[0m\u001b[1;32m     41\u001b[0m             \u001b[0mx\u001b[0m \u001b[0;34m-=\u001b[0m \u001b[0mx\u001b[0m\u001b[0;34m.\u001b[0m\u001b[0mmean\u001b[0m\u001b[0;34m(\u001b[0m\u001b[0;34m)\u001b[0m\u001b[0;34m\u001b[0m\u001b[0;34m\u001b[0m\u001b[0m\n\u001b[1;32m     42\u001b[0m             \u001b[0mx\u001b[0m \u001b[0;34m/=\u001b[0m \u001b[0mx\u001b[0m\u001b[0;34m.\u001b[0m\u001b[0mstd\u001b[0m\u001b[0;34m(\u001b[0m\u001b[0;34m)\u001b[0m\u001b[0;34m\u001b[0m\u001b[0;34m\u001b[0m\u001b[0m\n",
      "\u001b[0;31mIndexError\u001b[0m: index 13 is out of bounds for axis 1 with size 13"
     ]
    }
   ],
   "source": [
    "import random\n",
    "from tensorflow.keras.preprocessing.image import img_to_array\n",
    "from tensorflow.keras.models import Model\n",
    "# Let's define a new Model that will take an image as input, and will output\n",
    "# intermediate representations for all layers in the previous model after\n",
    "# the first.\n",
    "successive_outputs = [layer.output for layer in model23.layers[1:]]\n",
    "#visualization_model = Model(img_input, successive_outputs)\n",
    "visualization_model = Model(inputs = model23.input, outputs = successive_outputs)\n",
    "# Let's prepare a random input image from the training set.\n",
    "#horse_img_files = [os.path.join(train_horse_dir, f) for f in train_horse_names]\n",
    "#human_img_files = [os.path.join(train_human_dir, f) for f in train_human_names]\n",
    "#img_path = random.choice(horse_img_files + human_img_files)\n",
    "\n",
    "img = cv2.imread('/home/beltain/Data/fmnist/img_0.jpg', cv2.IMREAD_GRAYSCALE)  # this is a PIL image\n",
    "x = img.reshape(1,28,28,1) # Numpy array with shape (150, 150, 3)\n",
    "x = x / 255\n",
    "\n",
    "# Let's run our image through our network, thus obtaining all\n",
    "# intermediate representations for this image.\n",
    "successive_feature_maps = visualization_model.predict(x)\n",
    "\n",
    "# These are the names of the layers, so can have them as part of our plot\n",
    "layer_names = [layer.name for layer in model23.layers]\n",
    "\n",
    "# Now let's display our representations\n",
    "for layer_name, feature_map in zip(layer_names, successive_feature_maps):\n",
    "    print(feature_map.shape)\n",
    "    if len(feature_map.shape) > 0 :\n",
    "        print('nice')\n",
    "        # Just do this for the conv / maxpool layers, not the fully-connected layers\n",
    "        n_features = feature_map.shape[-1]  # number of features in feature map\n",
    "        # The feature map has shape (1, size, size, n_features)\n",
    "        size = feature_map.shape[1]\n",
    "        # We will tile our images in this matrix\n",
    "        display_grid = np.zeros((size, size * n_features))\n",
    "        for i in range(n_features):\n",
    "            # Postprocess the feature to make it visually palatable\n",
    "            #x = feature_map[0, :, :, i]\n",
    "            x = feature_map[0, i]\n",
    "            x -= x.mean()\n",
    "            x /= x.std()\n",
    "            x *= 64\n",
    "            x += 128\n",
    "            x = np.clip(x, 0, 255).astype('uint8')\n",
    "            # We'll tile each filter into this big horizontal grid\n",
    "        display_grid[:, i * size : (i + 1) * size] = x\n",
    "        # Display the grid\n",
    "        scale = 20. / n_features\n",
    "        plt.figure(figsize=(scale * n_features, scale))\n",
    "        plt.title(layer_name)\n",
    "        plt.grid(False)\n",
    "        plt.imshow(display_grid, aspect='auto', cmap='viridis')"
   ]
  },
  {
   "cell_type": "code",
   "execution_count": null,
   "metadata": {},
   "outputs": [],
   "source": []
  }
 ],
 "metadata": {
  "kernelspec": {
   "display_name": "Python 3",
   "language": "python",
   "name": "python3"
  },
  "language_info": {
   "codemirror_mode": {
    "name": "ipython",
    "version": 3
   },
   "file_extension": ".py",
   "mimetype": "text/x-python",
   "name": "python",
   "nbconvert_exporter": "python",
   "pygments_lexer": "ipython3",
   "version": "3.6.8"
  }
 },
 "nbformat": 4,
 "nbformat_minor": 4
}
